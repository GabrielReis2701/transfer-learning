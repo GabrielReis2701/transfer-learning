{
  "nbformat": 4,
  "nbformat_minor": 0,
  "metadata": {
    "colab": {
      "name": "transfer-learning.ipynb",
      "provenance": [],
      "include_colab_link": true
    },
    "kernelspec": {
      "name": "python3",
      "display_name": "Python 3"
    },
    "accelerator": "GPU"
  },
  "cells": [
    {
      "cell_type": "markdown",
      "metadata": {
        "id": "view-in-github",
        "colab_type": "text"
      },
      "source": [
        "<a href=\"https://colab.research.google.com/github/GabrielReis2701/transfer-learning/blob/main/notebooks/transfer-learning.ipynb\" target=\"_parent\"><img src=\"https://colab.research.google.com/assets/colab-badge.svg\" alt=\"Open In Colab\"/></a>"
      ]
    },
    {
      "metadata": {
        "id": "92mQ2gMlYoZl"
      },
      "cell_type": "markdown",
      "source": [
        "# Transfer learning / fine-tuning\n",
        "\n",
        "Este tutorial o guiará pelo processo de uso do _transfer learning_ para aprender um classificador de imagem preciso a partir de um número relativamente pequeno de amostras de treinamento. De um modo geral, a aprendizagem de transferência refere-se ao processo de alavancar o conhecimento aprendido em um modelo para o treinamento de outro modelo.\n",
        "\n",
        "Mais especificamente, o processo envolve pegar uma rede neural existente que foi previamente treinada para um bom desempenho em um conjunto de dados maior e usá-la como …tarefas (como de [ILSVRC](http://www.image-net.org/challenges/ LSVRC/)), é prática comum agora não apenas publicar a arquitetura, mas também liberar os pesos treinados do modelo. Isso permite que amadores usem esses classificadores de imagem para aumentar o desempenho de seus próprios modelos específicos de tarefas.\n",
        "\n",
        "#### Feature extraction vs. fine-tuning\n",
        "\n",
        "Em um extremo, o aprendizado de transferência pode envolver pegar a rede pré-treinada e congelar os pesos, e usar uma de suas camadas ocultas (geralmente a última… -ajuste as camadas posteriores. Qual estratégia é a melhor depende do tamanho do seu conjunto de dados, do número de classes e de quanto ele se assemelha ao conjunto de dados no qual o modelo anterior foi treinado (e, portanto, se ele pode se beneficiar dos mesmos extratores de recursos aprendidos ). Uma discussão mais detalhada sobre como criar estratégias pode ser encontrada em [[1]](http://cs231n.github.io/transfer-learning/) [[2]](http://sebastianruder.com/transfer -Aprendendo/).\n",
        "## Procedure\n",
        "\n",
        "Neste guia, passaremos pelo processo de carregamento de um classificador de imagem de 1000 classes de última geração, [VGG16](https://arxiv.org/pdf/1409.1556.pdf) que [venceu o desafio ImageNet em 2014](http://www.robots.ox.ac.uk/~vgg/research/very_deep/), e usando-o como um extrator de recursos fixos para treinar um classificador personalizado menor em nossas próprias imagens, embora com muito pouco código alterações, você pode tentar ajustar também.\n",
        "\n",
        "Primeiro vamos carregar o VGG16 e remover sua camada final, a camada de classificação softmax de 1000 classes específica para ImageNet, e substituí-la por uma nova camada de classificação para as classes sobre as quais estamos treinando. Em seguida, congelaremos todos os pesos na rede, exceto os novos que se conectam à nova camada de classificação, e treinaremos a nova camada de classificação sobre nosso novo conjunto de dados.\n",
        "\n",
        "Também compararemos esse método com o treinamento de uma pequena rede neural do zero no novo conjunto de dados e, como veremos, melhorará drasticamente nossa precisão. Faremos essa parte primeiro.\n",
        "\n",
        "Como nosso sujeito de teste, usaremos um conjunto de dados composto por cerca de 6.000 imagens pertencentes a 97 classes e treinaremos um classificador de imagens com cerca de 80% de precisão. Vale a pena notar que essa estratégia se adapta bem a conjuntos de imagens em que você pode ter apenas algumas centenas ou menos imagens. Seu desempenho será menor a partir de um pequeno número de amostras (dependendo das classes) como de costume, mas ainda impressionante considerando as restrições usuais.\n"
      ]
    },
    {
      "metadata": {
        "id": "3p-OjhDPYoZm"
      },
      "cell_type": "code",
      "source": [
        "%matplotlib inline\n",
        "\n",
        "import os\n",
        "\n",
        "#if using Theano with GPU\n",
        "#os.environ[\"KERAS_BACKEND\"] = \"tensorflow\"\n",
        "\n",
        "import random\n",
        "import numpy as np\n",
        "import keras\n",
        "\n",
        "import matplotlib.pyplot as plt\n",
        "from matplotlib.pyplot import imshow\n",
        "from tensorflow.keras import applications\n",
        "\n",
        "from keras.preprocessing import image\n",
        "from keras.applications.imagenet_utils import preprocess_input\n",
        "from keras.models import Sequential\n",
        "from keras.layers import Dense, Dropout, Flatten, Activation\n",
        "from keras.layers import Conv2D, MaxPooling2D\n",
        "from keras.models import Model\n",
        "from keras.utils import np_utils"
      ],
      "execution_count": 114,
      "outputs": []
    },
    {
      "metadata": {
        "id": "VWWN-FPLYoZs"
      },
      "cell_type": "markdown",
      "source": [
        "### Getting a dataset\n",
        "\n",
        "The first step is going to be to load our data. As our example, we will be using the dataset [CalTech-101](http://www.vision.caltech.edu/Image_Datasets/Caltech101/), which contains around 9000 labeled images belonging to 101 object categories. However, we will exclude 5 of the categories which have the most images. This is in order to keep the class distribution fairly balanced (around 50-100) and constrained to a smaller number of images, around 6000. \n",
        "\n",
        "To obtain this dataset, you can either run the download script `download.sh` in the `data` folder, or the following commands:\n",
        "\n",
        "    wget http://www.vision.caltech.edu/Image_Datasets/Caltech101/101_ObjectCategories.tar.gz\n",
        "    tar -xvzf 101_ObjectCategories.tar.gz\n",
        "\n",
        "If you wish to use your own dataset, it should be aranged in the same fashion to `101_ObjectCategories` with all of the images organized into subfolders, one for each class. In this case, the following cell should load your custom dataset correctly by just replacing `root` with your folder. If you have an alternate structure, you just need to make sure that you load the list `data` where every element is a dict where `x` is the data (a 1-d numpy array) and `y` is the label (an integer). Use the helper function `get_image(path)` to load the image correctly into the array, and note also that the images are being resized to 224x224. This is necessary because the input to VGG16 is a 224x224 RGB image. You do not need to resize them on your hard drive, as that is being done in the code below.\n",
        "\n",
        "If you have `101_ObjectCategories` in your data folder, the following cell should load all the data."
      ]
    },
    {
      "metadata": {
        "id": "XklKIrnaZb3f",
        "colab": {
          "base_uri": "https://localhost:8080/"
        },
        "outputId": "fa2473a1-536a-46f8-8cfb-e75daec048a5"
      },
      "cell_type": "code",
      "source": [
        "!wget https://drive.google.com/file/d/1-VipCTi3-PQfjnmUmK_TKShEBCm2QvVo/view?usp=sharing\n",
        "!wget https://drive.google.com/file/d/1uN5DbNhnfCb0SRzJW0n5WQm2VCOem808/view?usp=sharing\n",
        "!7z x /content/insetos.zip\n",
        "!7z x /content/imagensTeste.zip\n"
      ],
      "execution_count": 115,
      "outputs": [
        {
          "output_type": "stream",
          "name": "stdout",
          "text": [
            "--2022-08-20 19:17:27--  https://drive.google.com/file/d/1-VipCTi3-PQfjnmUmK_TKShEBCm2QvVo/view?usp=sharing\n",
            "Resolving drive.google.com (drive.google.com)... 172.217.219.102, 172.217.219.113, 172.217.219.139, ...\n",
            "Connecting to drive.google.com (drive.google.com)|172.217.219.102|:443... connected.\n",
            "HTTP request sent, awaiting response... 200 OK\n",
            "Length: unspecified [text/html]\n",
            "Saving to: ‘view?usp=sharing.2’\n",
            "\n",
            "\rview?usp=sharing.2      [<=>                 ]       0  --.-KB/s               \rview?usp=sharing.2      [ <=>                ]  66.17K  --.-KB/s    in 0.002s  \n",
            "\n",
            "2022-08-20 19:17:27 (27.1 MB/s) - ‘view?usp=sharing.2’ saved [67760]\n",
            "\n",
            "--2022-08-20 19:17:27--  https://drive.google.com/file/d/1uN5DbNhnfCb0SRzJW0n5WQm2VCOem808/view?usp=sharing\n",
            "Resolving drive.google.com (drive.google.com)... 172.217.219.102, 172.217.219.113, 172.217.219.139, ...\n",
            "Connecting to drive.google.com (drive.google.com)|172.217.219.102|:443... connected.\n",
            "HTTP request sent, awaiting response... 200 OK\n",
            "Length: unspecified [text/html]\n",
            "Saving to: ‘view?usp=sharing.3’\n",
            "\n",
            "view?usp=sharing.3      [ <=>                ]  66.17K  --.-KB/s    in 0.002s  \n",
            "\n",
            "2022-08-20 19:17:28 (42.5 MB/s) - ‘view?usp=sharing.3’ saved [67763]\n",
            "\n",
            "\n",
            "7-Zip [64] 16.02 : Copyright (c) 1999-2016 Igor Pavlov : 2016-05-21\n",
            "p7zip Version 16.02 (locale=en_US.UTF-8,Utf16=on,HugeFiles=on,64 bits,2 CPUs Intel(R) Xeon(R) CPU @ 2.30GHz (306F0),ASM,AES-NI)\n",
            "\n",
            "Scanning the drive for archives:\n",
            "  0M Scan /content/\b\b\b\b\b\b\b\b\b\b\b\b\b\b\b\b\b\b\b                   \b\b\b\b\b\b\b\b\b\b\b\b\b\b\b\b\b\b\b1 file, 580910 bytes (568 KiB)\n",
            "\n",
            "Extracting archive: /content/insetos.zip\n",
            "--\n",
            "Path = /content/insetos.zip\n",
            "Type = zip\n",
            "Physical Size = 580910\n",
            "\n",
            "  0%\b\b\b\b    \b\b\b\b\n",
            "Would you like to replace the existing file:\n",
            "  Path:     ./curso IA DIO/Aranha/1.jpg\n",
            "  Size:     2703 bytes (3 KiB)\n",
            "  Modified: 2022-08-20 13:27:32\n",
            "with the file from archive:\n",
            "  Path:     curso IA DIO/Aranha/1.jpg\n",
            "  Size:     2703 bytes (3 KiB)\n",
            "  Modified: 2022-08-20 13:27:32\n",
            "? (Y)es / (N)o / (A)lways / (S)kip all / A(u)to rename all / (Q)uit? n\n",
            "\n",
            "  0% 1\b\b\b\b\b\b      \b\b\b\b\b\b\n",
            "Would you like to replace the existing file:\n",
            "  Path:     ./curso IA DIO/Aranha/10.jpg\n",
            "  Size:     4532 bytes (5 KiB)\n",
            "  Modified: 2022-08-20 13:28:38\n",
            "with the file from archive:\n",
            "  Path:     curso IA DIO/Aranha/10.jpg\n",
            "  Size:     4532 bytes (5 KiB)\n",
            "  Modified: 2022-08-20 13:28:38\n",
            "? (Y)es / (N)o / (A)lways / (S)kip all / A(u)to rename all / (Q)uit? n\n",
            "\n",
            "  1% 1\b\b\b\b\b\b      \b\b\b\b\b\b\n",
            "Would you like to replace the existing file:\n",
            "  Path:     ./curso IA DIO/Aranha/11.jpg\n",
            "  Size:     8574 bytes (9 KiB)\n",
            "  Modified: 2022-08-20 13:28:46\n",
            "with the file from archive:\n",
            "  Path:     curso IA DIO/Aranha/11.jpg\n",
            "  Size:     8574 bytes (9 KiB)\n",
            "  Modified: 2022-08-20 13:28:46\n",
            "? (Y)es / (N)o / (A)lways / (S)kip all / A(u)to rename all / (Q)uit? n\n",
            "\n",
            "  2% 1\b\b\b\b\b\b      \b\b\b\b\b\b\n",
            "Would you like to replace the existing file:\n",
            "  Path:     ./curso IA DIO/Aranha/12.jpg\n",
            "  Size:     5185 bytes (6 KiB)\n",
            "  Modified: 2022-08-20 13:29:02\n",
            "with the file from archive:\n",
            "  Path:     curso IA DIO/Aranha/12.jpg\n",
            "  Size:     5185 bytes (6 KiB)\n",
            "  Modified: 2022-08-20 13:29:02\n",
            "? (Y)es / (N)o / (A)lways / (S)kip all / A(u)to rename all / (Q)uit? n\n",
            "\n",
            "  3% 1\b\b\b\b\b\b      \b\b\b\b\b\b\n",
            "Would you like to replace the existing file:\n",
            "  Path:     ./curso IA DIO/Aranha/13.jpg\n",
            "  Size:     3127 bytes (4 KiB)\n",
            "  Modified: 2022-08-20 13:29:08\n",
            "with the file from archive:\n",
            "  Path:     curso IA DIO/Aranha/13.jpg\n",
            "  Size:     3127 bytes (4 KiB)\n",
            "  Modified: 2022-08-20 13:29:08\n",
            "? (Y)es / (N)o / (A)lways / (S)kip all / A(u)to rename all / (Q)uit? y\n",
            "\n",
            "  3% 1 - curso IA DIO/Aranha/13.jpg\b\b\b\b\b\b\b\b\b\b\b\b\b\b\b\b\b\b\b\b\b\b\b\b\b\b\b\b\b\b\b\b\b\b\b                                   \b\b\b\b\b\b\b\b\b\b\b\b\b\b\b\b\b\b\b\b\b\b\b\b\b\b\b\b\b\b\b\b\b\b\b\n",
            "Would you like to replace the existing file:\n",
            "  Path:     ./curso IA DIO/Aranha/14.jpg\n",
            "  Size:     7199 bytes (8 KiB)\n",
            "  Modified: 2022-08-20 13:29:14\n",
            "with the file from archive:\n",
            "  Path:     curso IA DIO/Aranha/14.jpg\n",
            "  Size:     7199 bytes (8 KiB)\n",
            "  Modified: 2022-08-20 13:29:14\n",
            "? (Y)es / (N)o / (A)lways / (S)kip all / A(u)to rename all / (Q)uit? y\n",
            "\n",
            "  4% 2 - curso IA DIO/Aranha/14.jpg\b\b\b\b\b\b\b\b\b\b\b\b\b\b\b\b\b\b\b\b\b\b\b\b\b\b\b\b\b\b\b\b\b\b\b                                   \b\b\b\b\b\b\b\b\b\b\b\b\b\b\b\b\b\b\b\b\b\b\b\b\b\b\b\b\b\b\b\b\b\b\b\n",
            "Would you like to replace the existing file:\n",
            "  Path:     ./curso IA DIO/Aranha/15.jpg\n",
            "  Size:     8273 bytes (9 KiB)\n",
            "  Modified: 2022-08-20 13:29:22\n",
            "with the file from archive:\n",
            "  Path:     curso IA DIO/Aranha/15.jpg\n",
            "  Size:     8273 bytes (9 KiB)\n",
            "  Modified: 2022-08-20 13:29:22\n",
            "? (Y)es / (N)o / (A)lways / (S)kip all / A(u)to rename all / (Q)uit? y\n",
            "\n",
            "  5% 3 - curso IA DIO/Aranha/15.jpg\b\b\b\b\b\b\b\b\b\b\b\b\b\b\b\b\b\b\b\b\b\b\b\b\b\b\b\b\b\b\b\b\b\b\b                                   \b\b\b\b\b\b\b\b\b\b\b\b\b\b\b\b\b\b\b\b\b\b\b\b\b\b\b\b\b\b\b\b\b\b\b\n",
            "Would you like to replace the existing file:\n",
            "  Path:     ./curso IA DIO/Aranha/16.jpg\n",
            "  Size:     5262 bytes (6 KiB)\n",
            "  Modified: 2022-08-20 13:29:30\n",
            "with the file from archive:\n",
            "  Path:     curso IA DIO/Aranha/16.jpg\n",
            "  Size:     5262 bytes (6 KiB)\n",
            "  Modified: 2022-08-20 13:29:30\n",
            "? (Y)es / (N)o / (A)lways / (S)kip all / A(u)to rename all / (Q)uit? s\n",
            "\n",
            "  7% 4\b\b\b\b\b\b      \b\b\b\b\b\bEverything is Ok\n",
            "\n",
            "Folders: 3\n",
            "Files: 3\n",
            "Size:       18599\n",
            "Compressed: 580910\n",
            "\n",
            "7-Zip [64] 16.02 : Copyright (c) 1999-2016 Igor Pavlov : 2016-05-21\n",
            "p7zip Version 16.02 (locale=en_US.UTF-8,Utf16=on,HugeFiles=on,64 bits,2 CPUs Intel(R) Xeon(R) CPU @ 2.30GHz (306F0),ASM,AES-NI)\n",
            "\n",
            "Scanning the drive for archives:\n",
            "  0M Scan /content/\b\b\b\b\b\b\b\b\b\b\b\b\b\b\b\b\b\b\b                   \b\b\b\b\b\b\b\b\b\b\b\b\b\b\b\b\b\b\b1 file, 141360 bytes (139 KiB)\n",
            "\n",
            "Extracting archive: /content/imagensTeste.zip\n",
            "--\n",
            "Path = /content/imagensTeste.zip\n",
            "Type = zip\n",
            "Physical Size = 141360\n",
            "\n",
            "  0%\b\b\b\b    \b\b\b\b\n",
            "Would you like to replace the existing file:\n",
            "  Path:     ./imagensTeste/1.jpg\n",
            "  Size:     41052 bytes (41 KiB)\n",
            "  Modified: 2022-08-20 15:04:12\n",
            "with the file from archive:\n",
            "  Path:     imagensTeste/1.jpg\n",
            "  Size:     41052 bytes (41 KiB)\n",
            "  Modified: 2022-08-20 15:04:12\n",
            "? (Y)es / (N)o / (A)lways / (S)kip all / A(u)to rename all / (Q)uit? s\n",
            "\n",
            " 29%\b\b\b\b    \b\b\b\bEverything is Ok\n",
            "\n",
            "Files: 0\n",
            "Size:       0\n",
            "Compressed: 141360\n"
          ]
        }
      ]
    },
    {
      "metadata": {
        "id": "8OGRcLNwYoZu",
        "colab": {
          "base_uri": "https://localhost:8080/"
        },
        "outputId": "dbb1c310-b0b4-44ac-8209-b681097bd0cf"
      },
      "cell_type": "code",
      "source": [
        "root = 'insetos'\n",
        "exclude = ['BACKGROUND_Google', 'Motorbikes', 'airplanes', 'Faces_easy', 'Faces','.ipynb_checkpoints']\n",
        "train_split, val_split = 0.7, 0.15\n",
        "\n",
        "categories = [x[0] for x in os.walk(root) if x[0]][1:]\n",
        "categories = [c for c in categories if c not in [os.path.join(root, e) for e in exclude]]\n",
        "\n",
        "print(categories)"
      ],
      "execution_count": 116,
      "outputs": [
        {
          "output_type": "stream",
          "name": "stdout",
          "text": [
            "['insetos/Joaninha', 'insetos/Aranha', 'insetos/Formiga']\n"
          ]
        }
      ]
    },
    {
      "metadata": {
        "id": "K2ERhVlFYoZy"
      },
      "cell_type": "markdown",
      "source": [
        " Esta função é útil para pré-processar os dados em uma imagem e vetor de entrada."
      ]
    },
    {
      "metadata": {
        "id": "A1T1Joq7YoZz"
      },
      "cell_type": "code",
      "source": [
        "# helper function to load image and return it and input vector\n",
        "def get_image(path):\n",
        "    img = image.load_img(path, target_size=(224, 224))\n",
        "    x = image.img_to_array(img)\n",
        "    x = np.expand_dims(x, axis=0)\n",
        "    x = preprocess_input(x)\n",
        "    return img, x"
      ],
      "execution_count": 117,
      "outputs": []
    },
    {
      "metadata": {
        "id": "zUwQ60GGYoZ3"
      },
      "cell_type": "markdown",
      "source": [
        "Carregue todas as imagens da pasta raiz"
      ]
    },
    {
      "metadata": {
        "id": "5nAUr-ooYoZ4"
      },
      "cell_type": "code",
      "source": [
        "data = []\n",
        "for c, category in enumerate(categories):\n",
        "    images = [os.path.join(dp, f) for dp, dn, filenames \n",
        "              in os.walk(category) for f in filenames \n",
        "              if os.path.splitext(f)[1].lower() in ['.jpg','.png','.jpeg']]\n",
        "    for img_path in images:\n",
        "        img, x = get_image(img_path)\n",
        "        data.append({'x':np.array(x[0]), 'y':c})\n",
        "\n",
        "# count the number of classes\n",
        "num_classes = len(categories)"
      ],
      "execution_count": 118,
      "outputs": []
    },
    {
      "metadata": {
        "id": "55Rw-ptVYoZ7"
      },
      "cell_type": "markdown",
      "source": [
        "Randomize a ordem dos dados."
      ]
    },
    {
      "metadata": {
        "id": "5vGeJK55YoZ8"
      },
      "cell_type": "code",
      "source": [
        "random.shuffle(data)"
      ],
      "execution_count": 119,
      "outputs": []
    },
    {
      "metadata": {
        "id": "OwHqS_NgYoZ_"
      },
      "cell_type": "markdown",
      "source": [
        "criar treinamento / validação / divisão de teste (70%, 15%, 15%)"
      ]
    },
    {
      "metadata": {
        "id": "PT9Cuq2rYoaB"
      },
      "cell_type": "code",
      "source": [
        "idx_val = int(train_split * len(data))\n",
        "idx_test = int((train_split + val_split) * len(data))\n",
        "train = data[:idx_val]\n",
        "val = data[idx_val:idx_test]\n",
        "test = data[idx_test:]"
      ],
      "execution_count": 120,
      "outputs": []
    },
    {
      "metadata": {
        "id": "EsOVhpqcYoaF"
      },
      "cell_type": "markdown",
      "source": [
        " \n",
        "Dados separados para rótulos."
      ]
    },
    {
      "metadata": {
        "id": "vQOGN9kOYoaH",
        "colab": {
          "base_uri": "https://localhost:8080/"
        },
        "outputId": "6e31b90d-a993-4566-b7be-091a2a0b8506"
      },
      "cell_type": "code",
      "source": [
        "x_train, y_train = np.array([t[\"x\"] for t in train]), [t[\"y\"] for t in train]\n",
        "x_val, y_val = np.array([t[\"x\"] for t in val]), [t[\"y\"] for t in val]\n",
        "x_test, y_test = np.array([t[\"x\"] for t in test]), [t[\"y\"] for t in test]\n",
        "print(y_test)"
      ],
      "execution_count": 121,
      "outputs": [
        {
          "output_type": "stream",
          "name": "stdout",
          "text": [
            "[2, 1, 1, 2, 0, 1, 2, 2, 1, 1, 1, 1]\n"
          ]
        }
      ]
    },
    {
      "metadata": {
        "id": "vc6W07QVYoaM"
      },
      "cell_type": "markdown",
      "source": [
        "\n",
        "Pré-processe os dados como antes, certificando-se de que sejam float32 e normalizados entre 0 e 1."
      ]
    },
    {
      "metadata": {
        "id": "qnXaiAgJYoaQ",
        "colab": {
          "base_uri": "https://localhost:8080/"
        },
        "outputId": "6ca49f75-7f7a-41de-d6b9-6a3b0c876677"
      },
      "cell_type": "code",
      "source": [
        "# normalize data\n",
        "x_train = x_train.astype('float32') / 255.\n",
        "x_val = x_val.astype('float32') / 255.\n",
        "x_test = x_test.astype('float32') / 255.\n",
        "\n",
        "# convert labels to one-hot vectors\n",
        "y_train = keras.utils.np_utils.to_categorical(y_train, num_classes)\n",
        "y_val = keras.utils.np_utils.to_categorical(y_val, num_classes)\n",
        "y_test = keras.utils.np_utils.to_categorical(y_test, num_classes)\n",
        "print(y_test.shape)"
      ],
      "execution_count": 122,
      "outputs": [
        {
          "output_type": "stream",
          "name": "stdout",
          "text": [
            "(12, 3)\n"
          ]
        }
      ]
    },
    {
      "metadata": {
        "id": "ordUucUKYoaS"
      },
      "cell_type": "markdown",
      "source": [
        " \n",
        "Vamos fazer um resumo do que temos."
      ]
    },
    {
      "metadata": {
        "id": "AcKjxgtyYoaT",
        "colab": {
          "base_uri": "https://localhost:8080/"
        },
        "outputId": "9702c16a-5f8b-476f-e3bc-afdd3dc54c78"
      },
      "cell_type": "code",
      "source": [
        "# summary\n",
        "print(\"finished loading %d images from %d categories\"%(len(data), num_classes))\n",
        "print(\"train / validation / test split: %d, %d, %d\"%(len(x_train), len(x_val), len(x_test)))\n",
        "print(\"training data shape: \", x_train.shape)\n",
        "print(\"training labels shape: \", y_train.shape)\n"
      ],
      "execution_count": 123,
      "outputs": [
        {
          "output_type": "stream",
          "name": "stdout",
          "text": [
            "finished loading 80 images from 3 categories\n",
            "train / validation / test split: 56, 12, 12\n",
            "training data shape:  (56, 224, 224, 3)\n",
            "training labels shape:  (56, 3)\n"
          ]
        }
      ]
    },
    {
      "metadata": {
        "id": "E-P9MNPcYoaY"
      },
      "cell_type": "markdown",
      "source": [
        "Se tudo funcionou corretamente, você deve ter carregado um monte de imagens e dividido em três conjuntos: `train`, `val` e `test`. A forma dos dados de treinamento deve ser (`n`, 224, 224, 3) onde `n` é o tamanho do seu conjunto de treinamento e os rótulos devem ser (`n`, `c`) onde `c` é o número de classes (97 no caso de `101_ObjectCategories`.\n",
        "\n",
        "Observe que dividimos todos os dados em três subconjuntos -- um conjunto de treinamento `train`, um conjunto de validação `val` e um conjunto de teste `test`. A razão para isso é avaliar adequadamente a precisão do nosso classificador. Durante o treinamento, o otimizador usa o conjunto de validação para avaliar seu desempenho interno, a fim de determinar o gradiente sem overfitting ao conjunto de treinamento. O conjunto `test` é sempre retirado do algoritmo de treinamento e é usado apenas no final para avaliar a precisão final do nosso modelo.\n",
        "\n",
        "Vejamos rapidamente algumas imagens de amostra do nosso conjunto de dados."
      ]
    },
    {
      "metadata": {
        "id": "y84SmM2CYoaZ",
        "colab": {
          "base_uri": "https://localhost:8080/",
          "height": 180
        },
        "outputId": "6089acfc-8d4f-43bb-a546-a59879119009"
      },
      "cell_type": "code",
      "source": [
        "images = [os.path.join(dp, f) for dp, dn, filenames in os.walk(root) for f in filenames if os.path.splitext(f)[1].lower() in ['.jpg','.png','.jpeg']]\n",
        "idx = [int(len(images) * random.random()) for i in range(8)]\n",
        "imgs = [image.load_img(images[i], target_size=(224, 224)) for i in idx]\n",
        "concat_image = np.concatenate([np.asarray(img) for img in imgs], axis=1)\n",
        "plt.figure(figsize=(16,4))\n",
        "plt.imshow(concat_image)"
      ],
      "execution_count": 124,
      "outputs": [
        {
          "output_type": "execute_result",
          "data": {
            "text/plain": [
              "<matplotlib.image.AxesImage at 0x7efd8642ef50>"
            ]
          },
          "metadata": {},
          "execution_count": 124
        },
        {
          "output_type": "display_data",
          "data": {
            "text/plain": [
              "<Figure size 1152x288 with 1 Axes>"
            ],
            "image/png": "[encoded data removed]"
          },
          "metadata": {
            "needs_background": "light"
          }
        }
      ]
    },
    {
      "metadata": {
        "id": "n2s5qypkYoad"
      },
      "cell_type": "markdown",
      "source": [
        "### Primeiro treinando uma rede neural do zero\n",
        "\n",
        "Antes de fazer o aprendizado de transferência, vamos primeiro construir uma rede neural do zero para fazer a classificação em nosso conjunto de dados. Isso nos dará uma linha de base para comparar com nossa rede aprendida por transferência mais tarde.\n",
        "\n",
        "A rede que construiremos contém 4 camadas convolucionais e de pool máximo alternadas, seguidas por um [dropout](https://www.cs.toronto.edu/~hinton/absps/JMLRdropout.pdf) após cada par conv/pooling . Após a última camada de pooling, anexaremos uma camada totalmente conectada com 256 neurônios, outra camada dropout e, finalmente, uma camada de classificação softmax para nossas classes.\n",
        "\n",
        "Nossa função de perda será, como de costume, perda categórica de entropia cruzada, e nosso algoritmo de aprendizado será [AdaDelta](https://arxiv.org/abs/1212.5701). Várias coisas sobre esta rede podem ser alteradas para obter melhor desempenho, talvez usar uma rede maior ou um otimizador diferente ajude, mas para os propósitos deste notebook, o objetivo é apenas obter uma compreensão de uma linha de base aproximada para fins de comparação e então não é necessário gastar muito tempo tentando otimizar esta rede.\n",
        "\n",
        " \n",
        "Ao compilar a rede, vamos executar `model.summary()` para obter um instantâneo de suas camadas."
      ]
    },
    {
      "metadata": {
        "id": "y41GiiYTYoaf",
        "colab": {
          "base_uri": "https://localhost:8080/"
        },
        "outputId": "01337c6b-1940-44c0-cfc8-a29ba6018cb9"
      },
      "cell_type": "code",
      "source": [
        "# build the network\n",
        "model = Sequential()\n",
        "print(\"Input dimensions: \",x_train.shape[1:])\n",
        "\n",
        "model.add(Conv2D(32, (3, 3), input_shape=x_train.shape[1:]))\n",
        "model.add(Activation('relu'))\n",
        "model.add(MaxPooling2D(pool_size=(2, 2)))\n",
        "\n",
        "model.add(Conv2D(32, (3, 3)))\n",
        "model.add(Activation('relu'))\n",
        "model.add(MaxPooling2D(pool_size=(2, 2)))\n",
        "\n",
        "model.add(Dropout(0.25))\n",
        "\n",
        "model.add(Conv2D(32, (3, 3)))\n",
        "model.add(Activation('relu'))\n",
        "model.add(MaxPooling2D(pool_size=(2, 2)))\n",
        "\n",
        "model.add(Conv2D(32, (3, 3)))\n",
        "model.add(Activation('relu'))\n",
        "model.add(MaxPooling2D(pool_size=(2, 2)))\n",
        "\n",
        "model.add(Dropout(0.25))\n",
        "\n",
        "model.add(Flatten())\n",
        "model.add(Dense(256))\n",
        "model.add(Activation('relu'))\n",
        "\n",
        "model.add(Dropout(0.5))\n",
        "\n",
        "model.add(Dense(num_classes))\n",
        "model.add(Activation('softmax'))\n",
        "\n",
        "model.summary()"
      ],
      "execution_count": 125,
      "outputs": [
        {
          "output_type": "stream",
          "name": "stdout",
          "text": [
            "Input dimensions:  (224, 224, 3)\n",
            "Model: \"sequential_5\"\n",
            "_________________________________________________________________\n",
            " Layer (type)                Output Shape              Param #   \n",
            "=================================================================\n",
            " conv2d_20 (Conv2D)          (None, 222, 222, 32)      896       \n",
            "                                                                 \n",
            " activation_30 (Activation)  (None, 222, 222, 32)      0         \n",
            "                                                                 \n",
            " max_pooling2d_20 (MaxPoolin  (None, 111, 111, 32)     0         \n",
            " g2D)                                                            \n",
            "                                                                 \n",
            " conv2d_21 (Conv2D)          (None, 109, 109, 32)      9248      \n",
            "                                                                 \n",
            " activation_31 (Activation)  (None, 109, 109, 32)      0         \n",
            "                                                                 \n",
            " max_pooling2d_21 (MaxPoolin  (None, 54, 54, 32)       0         \n",
            " g2D)                                                            \n",
            "                                                                 \n",
            " dropout_15 (Dropout)        (None, 54, 54, 32)        0         \n",
            "                                                                 \n",
            " conv2d_22 (Conv2D)          (None, 52, 52, 32)        9248      \n",
            "                                                                 \n",
            " activation_32 (Activation)  (None, 52, 52, 32)        0         \n",
            "                                                                 \n",
            " max_pooling2d_22 (MaxPoolin  (None, 26, 26, 32)       0         \n",
            " g2D)                                                            \n",
            "                                                                 \n",
            " conv2d_23 (Conv2D)          (None, 24, 24, 32)        9248      \n",
            "                                                                 \n",
            " activation_33 (Activation)  (None, 24, 24, 32)        0         \n",
            "                                                                 \n",
            " max_pooling2d_23 (MaxPoolin  (None, 12, 12, 32)       0         \n",
            " g2D)                                                            \n",
            "                                                                 \n",
            " dropout_16 (Dropout)        (None, 12, 12, 32)        0         \n",
            "                                                                 \n",
            " flatten_5 (Flatten)         (None, 4608)              0         \n",
            "                                                                 \n",
            " dense_12 (Dense)            (None, 256)               1179904   \n",
            "                                                                 \n",
            " activation_34 (Activation)  (None, 256)               0         \n",
            "                                                                 \n",
            " dropout_17 (Dropout)        (None, 256)               0         \n",
            "                                                                 \n",
            " dense_13 (Dense)            (None, 3)                 771       \n",
            "                                                                 \n",
            " activation_35 (Activation)  (None, 3)                 0         \n",
            "                                                                 \n",
            "=================================================================\n",
            "Total params: 1,209,315\n",
            "Trainable params: 1,209,315\n",
            "Non-trainable params: 0\n",
            "_________________________________________________________________\n"
          ]
        }
      ]
    },
    {
      "metadata": {
        "id": "ej9IWCzxYoai"
      },
      "cell_type": "markdown",
      "source": [
        "Criamos uma rede de tamanho médio com aproximadamente 1,2 milhão de pesos e vieses (os parâmetros). A maioria deles está levando para uma camada totalmente conectada pré-softmax 'dense_5'.\n",
        "\n",
        "Agora podemos ir em frente e treinar nosso modelo para 100 épocas com um tamanho de lote de 128. Também registraremos seu histórico para que possamos plotar a perda ao longo do tempo mais tarde."
      ]
    },
    {
      "metadata": {
        "id": "CIqHecNAYoaj",
        "colab": {
          "base_uri": "https://localhost:8080/"
        },
        "outputId": "7f9d39ed-1f4a-4828-d798-796925d07494"
      },
      "cell_type": "code",
      "source": [
        "# compile the model to use categorical cross-entropy loss function and adadelta optimizer\n",
        "model.compile(loss='categorical_crossentropy',\n",
        "              optimizer='adam',\n",
        "              metrics=['accuracy'])\n",
        "\n",
        "history = model.fit(x_train, y_train,\n",
        "                    batch_size=128,\n",
        "                    epochs=200,\n",
        "                    validation_data=(x_val, y_val))\n"
      ],
      "execution_count": 126,
      "outputs": [
        {
          "output_type": "stream",
          "name": "stdout",
          "text": [
            "Epoch 1/200\n",
            "1/1 [==============================] - 1s 813ms/step - loss: 1.1114 - accuracy: 0.2679 - val_loss: 1.0700 - val_accuracy: 0.5833\n",
            "Epoch 2/200\n",
            "1/1 [==============================] - 0s 128ms/step - loss: 1.0721 - accuracy: 0.4107 - val_loss: 1.0457 - val_accuracy: 0.3333\n",
            "Epoch 3/200\n",
            "1/1 [==============================] - 0s 116ms/step - loss: 1.0353 - accuracy: 0.3929 - val_loss: 1.0080 - val_accuracy: 0.3333\n",
            "Epoch 4/200\n",
            "1/1 [==============================] - 0s 106ms/step - loss: 0.9939 - accuracy: 0.5179 - val_loss: 0.9669 - val_accuracy: 0.3333\n",
            "Epoch 5/200\n",
            "1/1 [==============================] - 0s 108ms/step - loss: 0.9216 - accuracy: 0.5714 - val_loss: 0.9862 - val_accuracy: 0.3333\n",
            "Epoch 6/200\n",
            "1/1 [==============================] - 0s 99ms/step - loss: 0.9107 - accuracy: 0.5357 - val_loss: 0.9804 - val_accuracy: 0.4167\n",
            "Epoch 7/200\n",
            "1/1 [==============================] - 0s 102ms/step - loss: 0.8833 - accuracy: 0.6071 - val_loss: 1.0011 - val_accuracy: 0.3333\n",
            "Epoch 8/200\n",
            "1/1 [==============================] - 0s 99ms/step - loss: 0.8644 - accuracy: 0.5536 - val_loss: 0.9902 - val_accuracy: 0.4167\n",
            "Epoch 9/200\n",
            "1/1 [==============================] - 0s 102ms/step - loss: 0.7924 - accuracy: 0.5893 - val_loss: 0.9945 - val_accuracy: 0.2500\n",
            "Epoch 10/200\n",
            "1/1 [==============================] - 0s 101ms/step - loss: 0.7252 - accuracy: 0.6429 - val_loss: 0.9698 - val_accuracy: 0.4167\n",
            "Epoch 11/200\n",
            "1/1 [==============================] - 0s 103ms/step - loss: 0.6887 - accuracy: 0.6964 - val_loss: 0.9507 - val_accuracy: 0.5000\n",
            "Epoch 12/200\n",
            "1/1 [==============================] - 0s 102ms/step - loss: 0.6641 - accuracy: 0.7321 - val_loss: 1.0705 - val_accuracy: 0.2500\n",
            "Epoch 13/200\n",
            "1/1 [==============================] - 0s 97ms/step - loss: 0.5677 - accuracy: 0.7857 - val_loss: 0.9871 - val_accuracy: 0.3333\n",
            "Epoch 14/200\n",
            "1/1 [==============================] - 0s 101ms/step - loss: 0.5705 - accuracy: 0.7857 - val_loss: 0.9009 - val_accuracy: 0.2500\n",
            "Epoch 15/200\n",
            "1/1 [==============================] - 0s 98ms/step - loss: 0.4728 - accuracy: 0.8036 - val_loss: 0.8312 - val_accuracy: 0.7500\n",
            "Epoch 16/200\n",
            "1/1 [==============================] - 0s 101ms/step - loss: 0.4497 - accuracy: 0.8214 - val_loss: 0.9071 - val_accuracy: 0.7500\n",
            "Epoch 17/200\n",
            "1/1 [==============================] - 0s 103ms/step - loss: 0.4360 - accuracy: 0.8393 - val_loss: 1.0118 - val_accuracy: 0.4167\n",
            "Epoch 18/200\n",
            "1/1 [==============================] - 0s 100ms/step - loss: 0.3652 - accuracy: 0.8750 - val_loss: 1.2240 - val_accuracy: 0.3333\n",
            "Epoch 19/200\n",
            "1/1 [==============================] - 0s 102ms/step - loss: 0.3268 - accuracy: 0.8929 - val_loss: 1.2683 - val_accuracy: 0.3333\n",
            "Epoch 20/200\n",
            "1/1 [==============================] - 0s 115ms/step - loss: 0.2830 - accuracy: 0.9107 - val_loss: 1.1842 - val_accuracy: 0.4167\n",
            "Epoch 21/200\n",
            "1/1 [==============================] - 0s 100ms/step - loss: 0.2893 - accuracy: 0.8750 - val_loss: 1.2077 - val_accuracy: 0.4167\n",
            "Epoch 22/200\n",
            "1/1 [==============================] - 0s 97ms/step - loss: 0.2127 - accuracy: 0.9464 - val_loss: 1.6546 - val_accuracy: 0.3333\n",
            "Epoch 23/200\n",
            "1/1 [==============================] - 0s 107ms/step - loss: 0.1737 - accuracy: 0.9107 - val_loss: 2.4418 - val_accuracy: 0.4167\n",
            "Epoch 24/200\n",
            "1/1 [==============================] - 0s 98ms/step - loss: 0.3428 - accuracy: 0.8393 - val_loss: 1.3523 - val_accuracy: 0.4167\n",
            "Epoch 25/200\n",
            "1/1 [==============================] - 0s 100ms/step - loss: 0.2623 - accuracy: 0.8571 - val_loss: 1.1143 - val_accuracy: 0.4167\n",
            "Epoch 26/200\n",
            "1/1 [==============================] - 0s 101ms/step - loss: 0.1942 - accuracy: 0.9643 - val_loss: 1.2766 - val_accuracy: 0.5000\n",
            "Epoch 27/200\n",
            "1/1 [==============================] - 0s 99ms/step - loss: 0.1361 - accuracy: 0.9464 - val_loss: 1.7235 - val_accuracy: 0.2500\n",
            "Epoch 28/200\n",
            "1/1 [==============================] - 0s 99ms/step - loss: 0.1436 - accuracy: 0.9464 - val_loss: 2.2689 - val_accuracy: 0.2500\n",
            "Epoch 29/200\n",
            "1/1 [==============================] - 0s 102ms/step - loss: 0.2353 - accuracy: 0.8929 - val_loss: 2.4592 - val_accuracy: 0.2500\n",
            "Epoch 30/200\n",
            "1/1 [==============================] - 0s 101ms/step - loss: 0.1574 - accuracy: 0.9107 - val_loss: 2.1367 - val_accuracy: 0.3333\n",
            "Epoch 31/200\n",
            "1/1 [==============================] - 0s 99ms/step - loss: 0.1595 - accuracy: 0.9464 - val_loss: 1.8588 - val_accuracy: 0.5000\n",
            "Epoch 32/200\n",
            "1/1 [==============================] - 0s 99ms/step - loss: 0.1114 - accuracy: 0.9821 - val_loss: 1.6322 - val_accuracy: 0.5833\n",
            "Epoch 33/200\n",
            "1/1 [==============================] - 0s 99ms/step - loss: 0.1687 - accuracy: 0.8929 - val_loss: 1.5015 - val_accuracy: 0.5833\n",
            "Epoch 34/200\n",
            "1/1 [==============================] - 0s 100ms/step - loss: 0.0781 - accuracy: 0.9821 - val_loss: 1.5239 - val_accuracy: 0.5833\n",
            "Epoch 35/200\n",
            "1/1 [==============================] - 0s 102ms/step - loss: 0.2227 - accuracy: 0.9286 - val_loss: 1.7103 - val_accuracy: 0.4167\n",
            "Epoch 36/200\n",
            "1/1 [==============================] - 0s 99ms/step - loss: 0.1033 - accuracy: 0.9643 - val_loss: 2.1944 - val_accuracy: 0.2500\n",
            "Epoch 37/200\n",
            "1/1 [==============================] - 0s 99ms/step - loss: 0.0871 - accuracy: 0.9821 - val_loss: 2.8347 - val_accuracy: 0.1667\n",
            "Epoch 38/200\n",
            "1/1 [==============================] - 0s 104ms/step - loss: 0.0572 - accuracy: 1.0000 - val_loss: 3.4474 - val_accuracy: 0.1667\n",
            "Epoch 39/200\n",
            "1/1 [==============================] - 0s 101ms/step - loss: 0.1413 - accuracy: 0.9643 - val_loss: 3.7587 - val_accuracy: 0.1667\n",
            "Epoch 40/200\n",
            "1/1 [==============================] - 0s 111ms/step - loss: 0.1012 - accuracy: 0.9643 - val_loss: 3.9052 - val_accuracy: 0.3333\n",
            "Epoch 41/200\n",
            "1/1 [==============================] - 0s 105ms/step - loss: 0.1553 - accuracy: 0.9464 - val_loss: 3.7126 - val_accuracy: 0.3333\n",
            "Epoch 42/200\n",
            "1/1 [==============================] - 0s 102ms/step - loss: 0.1285 - accuracy: 0.9464 - val_loss: 3.4420 - val_accuracy: 0.1667\n",
            "Epoch 43/200\n",
            "1/1 [==============================] - 0s 100ms/step - loss: 0.0816 - accuracy: 0.9643 - val_loss: 2.9605 - val_accuracy: 0.1667\n",
            "Epoch 44/200\n",
            "1/1 [==============================] - 0s 104ms/step - loss: 0.1927 - accuracy: 0.9107 - val_loss: 2.4697 - val_accuracy: 0.2500\n",
            "Epoch 45/200\n",
            "1/1 [==============================] - 0s 100ms/step - loss: 0.0734 - accuracy: 0.9643 - val_loss: 2.4045 - val_accuracy: 0.2500\n",
            "Epoch 46/200\n",
            "1/1 [==============================] - 0s 103ms/step - loss: 0.0393 - accuracy: 1.0000 - val_loss: 2.4658 - val_accuracy: 0.3333\n",
            "Epoch 47/200\n",
            "1/1 [==============================] - 0s 101ms/step - loss: 0.1024 - accuracy: 0.9821 - val_loss: 2.9066 - val_accuracy: 0.4167\n",
            "Epoch 48/200\n",
            "1/1 [==============================] - 0s 101ms/step - loss: 0.0960 - accuracy: 0.9643 - val_loss: 3.4324 - val_accuracy: 0.3333\n",
            "Epoch 49/200\n",
            "1/1 [==============================] - 0s 102ms/step - loss: 0.0696 - accuracy: 0.9643 - val_loss: 4.0321 - val_accuracy: 0.2500\n",
            "Epoch 50/200\n",
            "1/1 [==============================] - 0s 101ms/step - loss: 0.0339 - accuracy: 1.0000 - val_loss: 4.5938 - val_accuracy: 0.1667\n",
            "Epoch 51/200\n",
            "1/1 [==============================] - 0s 100ms/step - loss: 0.0504 - accuracy: 1.0000 - val_loss: 5.1005 - val_accuracy: 0.1667\n",
            "Epoch 52/200\n",
            "1/1 [==============================] - 0s 99ms/step - loss: 0.0493 - accuracy: 1.0000 - val_loss: 5.1694 - val_accuracy: 0.1667\n",
            "Epoch 53/200\n",
            "1/1 [==============================] - 0s 97ms/step - loss: 0.0304 - accuracy: 1.0000 - val_loss: 4.8738 - val_accuracy: 0.1667\n",
            "Epoch 54/200\n",
            "1/1 [==============================] - 0s 99ms/step - loss: 0.0554 - accuracy: 1.0000 - val_loss: 4.0626 - val_accuracy: 0.2500\n",
            "Epoch 55/200\n",
            "1/1 [==============================] - 0s 103ms/step - loss: 0.0347 - accuracy: 1.0000 - val_loss: 3.5468 - val_accuracy: 0.2500\n",
            "Epoch 56/200\n",
            "1/1 [==============================] - 0s 98ms/step - loss: 0.0153 - accuracy: 1.0000 - val_loss: 3.2603 - val_accuracy: 0.3333\n",
            "Epoch 57/200\n",
            "1/1 [==============================] - 0s 103ms/step - loss: 0.0214 - accuracy: 1.0000 - val_loss: 3.0804 - val_accuracy: 0.3333\n",
            "Epoch 58/200\n",
            "1/1 [==============================] - 0s 99ms/step - loss: 0.0508 - accuracy: 0.9821 - val_loss: 3.4600 - val_accuracy: 0.3333\n",
            "Epoch 59/200\n",
            "1/1 [==============================] - 0s 101ms/step - loss: 0.0233 - accuracy: 1.0000 - val_loss: 3.9848 - val_accuracy: 0.3333\n",
            "Epoch 60/200\n",
            "1/1 [==============================] - 0s 102ms/step - loss: 0.0255 - accuracy: 0.9821 - val_loss: 4.5461 - val_accuracy: 0.3333\n",
            "Epoch 61/200\n",
            "1/1 [==============================] - 0s 107ms/step - loss: 0.0207 - accuracy: 1.0000 - val_loss: 5.0536 - val_accuracy: 0.2500\n",
            "Epoch 62/200\n",
            "1/1 [==============================] - 0s 98ms/step - loss: 0.1047 - accuracy: 0.9643 - val_loss: 4.2817 - val_accuracy: 0.2500\n",
            "Epoch 63/200\n",
            "1/1 [==============================] - 0s 99ms/step - loss: 0.0286 - accuracy: 1.0000 - val_loss: 3.5787 - val_accuracy: 0.2500\n",
            "Epoch 64/200\n",
            "1/1 [==============================] - 0s 98ms/step - loss: 0.0201 - accuracy: 1.0000 - val_loss: 3.1585 - val_accuracy: 0.2500\n",
            "Epoch 65/200\n",
            "1/1 [==============================] - 0s 99ms/step - loss: 0.0083 - accuracy: 1.0000 - val_loss: 2.9072 - val_accuracy: 0.2500\n",
            "Epoch 66/200\n",
            "1/1 [==============================] - 0s 99ms/step - loss: 0.0256 - accuracy: 1.0000 - val_loss: 2.8446 - val_accuracy: 0.2500\n",
            "Epoch 67/200\n",
            "1/1 [==============================] - 0s 113ms/step - loss: 0.1604 - accuracy: 0.9821 - val_loss: 3.1710 - val_accuracy: 0.2500\n",
            "Epoch 68/200\n",
            "1/1 [==============================] - 0s 104ms/step - loss: 0.2282 - accuracy: 0.9821 - val_loss: 4.4327 - val_accuracy: 0.2500\n",
            "Epoch 69/200\n",
            "1/1 [==============================] - 0s 99ms/step - loss: 0.0108 - accuracy: 1.0000 - val_loss: 5.8199 - val_accuracy: 0.1667\n",
            "Epoch 70/200\n",
            "1/1 [==============================] - 0s 100ms/step - loss: 0.0199 - accuracy: 1.0000 - val_loss: 7.0818 - val_accuracy: 0.1667\n",
            "Epoch 71/200\n",
            "1/1 [==============================] - 0s 101ms/step - loss: 0.1174 - accuracy: 0.9464 - val_loss: 5.1044 - val_accuracy: 0.2500\n",
            "Epoch 72/200\n",
            "1/1 [==============================] - 0s 98ms/step - loss: 0.0168 - accuracy: 1.0000 - val_loss: 3.6926 - val_accuracy: 0.3333\n",
            "Epoch 73/200\n",
            "1/1 [==============================] - 0s 102ms/step - loss: 0.0110 - accuracy: 1.0000 - val_loss: 2.9761 - val_accuracy: 0.4167\n",
            "Epoch 74/200\n",
            "1/1 [==============================] - 0s 98ms/step - loss: 0.0158 - accuracy: 1.0000 - val_loss: 2.5141 - val_accuracy: 0.5000\n",
            "Epoch 75/200\n",
            "1/1 [==============================] - 0s 97ms/step - loss: 0.0909 - accuracy: 0.9821 - val_loss: 2.2600 - val_accuracy: 0.5000\n",
            "Epoch 76/200\n",
            "1/1 [==============================] - 0s 98ms/step - loss: 0.0253 - accuracy: 1.0000 - val_loss: 2.3120 - val_accuracy: 0.5000\n",
            "Epoch 77/200\n",
            "1/1 [==============================] - 0s 98ms/step - loss: 0.0225 - accuracy: 1.0000 - val_loss: 2.7579 - val_accuracy: 0.3333\n",
            "Epoch 78/200\n",
            "1/1 [==============================] - 0s 105ms/step - loss: 0.0487 - accuracy: 0.9821 - val_loss: 3.3459 - val_accuracy: 0.2500\n",
            "Epoch 79/200\n",
            "1/1 [==============================] - 0s 97ms/step - loss: 0.0207 - accuracy: 1.0000 - val_loss: 3.8736 - val_accuracy: 0.1667\n",
            "Epoch 80/200\n",
            "1/1 [==============================] - 0s 105ms/step - loss: 0.0189 - accuracy: 1.0000 - val_loss: 4.2183 - val_accuracy: 0.0833\n",
            "Epoch 81/200\n",
            "1/1 [==============================] - 0s 98ms/step - loss: 0.0389 - accuracy: 1.0000 - val_loss: 4.2454 - val_accuracy: 0.1667\n",
            "Epoch 82/200\n",
            "1/1 [==============================] - 0s 100ms/step - loss: 0.0284 - accuracy: 0.9821 - val_loss: 4.2028 - val_accuracy: 0.1667\n",
            "Epoch 83/200\n",
            "1/1 [==============================] - 0s 104ms/step - loss: 0.0464 - accuracy: 0.9821 - val_loss: 3.6180 - val_accuracy: 0.2500\n",
            "Epoch 84/200\n",
            "1/1 [==============================] - 0s 101ms/step - loss: 0.0172 - accuracy: 1.0000 - val_loss: 3.2362 - val_accuracy: 0.3333\n",
            "Epoch 85/200\n",
            "1/1 [==============================] - 0s 101ms/step - loss: 0.0584 - accuracy: 0.9643 - val_loss: 3.0120 - val_accuracy: 0.2500\n",
            "Epoch 86/200\n",
            "1/1 [==============================] - 0s 98ms/step - loss: 0.0360 - accuracy: 0.9821 - val_loss: 2.9041 - val_accuracy: 0.2500\n",
            "Epoch 87/200\n",
            "1/1 [==============================] - 0s 103ms/step - loss: 0.0092 - accuracy: 1.0000 - val_loss: 2.8534 - val_accuracy: 0.2500\n",
            "Epoch 88/200\n",
            "1/1 [==============================] - 0s 99ms/step - loss: 0.0098 - accuracy: 1.0000 - val_loss: 2.8360 - val_accuracy: 0.2500\n",
            "Epoch 89/200\n",
            "1/1 [==============================] - 0s 106ms/step - loss: 0.0099 - accuracy: 1.0000 - val_loss: 2.8859 - val_accuracy: 0.2500\n",
            "Epoch 90/200\n",
            "1/1 [==============================] - 0s 104ms/step - loss: 0.0104 - accuracy: 1.0000 - val_loss: 2.9704 - val_accuracy: 0.1667\n",
            "Epoch 91/200\n",
            "1/1 [==============================] - 0s 101ms/step - loss: 0.0151 - accuracy: 1.0000 - val_loss: 3.1263 - val_accuracy: 0.1667\n",
            "Epoch 92/200\n",
            "1/1 [==============================] - 0s 101ms/step - loss: 0.0067 - accuracy: 1.0000 - val_loss: 3.2578 - val_accuracy: 0.1667\n",
            "Epoch 93/200\n",
            "1/1 [==============================] - 0s 101ms/step - loss: 0.0135 - accuracy: 1.0000 - val_loss: 3.3870 - val_accuracy: 0.1667\n",
            "Epoch 94/200\n",
            "1/1 [==============================] - 0s 98ms/step - loss: 0.0126 - accuracy: 1.0000 - val_loss: 3.5464 - val_accuracy: 0.1667\n",
            "Epoch 95/200\n",
            "1/1 [==============================] - 0s 97ms/step - loss: 0.0043 - accuracy: 1.0000 - val_loss: 3.6942 - val_accuracy: 0.1667\n",
            "Epoch 96/200\n",
            "1/1 [==============================] - 0s 98ms/step - loss: 0.0069 - accuracy: 1.0000 - val_loss: 3.8333 - val_accuracy: 0.1667\n",
            "Epoch 97/200\n",
            "1/1 [==============================] - 0s 94ms/step - loss: 0.0065 - accuracy: 1.0000 - val_loss: 3.9095 - val_accuracy: 0.2500\n",
            "Epoch 98/200\n",
            "1/1 [==============================] - 0s 99ms/step - loss: 0.0081 - accuracy: 1.0000 - val_loss: 3.9852 - val_accuracy: 0.2500\n",
            "Epoch 99/200\n",
            "1/1 [==============================] - 0s 103ms/step - loss: 0.0043 - accuracy: 1.0000 - val_loss: 4.0546 - val_accuracy: 0.2500\n",
            "Epoch 100/200\n",
            "1/1 [==============================] - 0s 101ms/step - loss: 0.0029 - accuracy: 1.0000 - val_loss: 4.1147 - val_accuracy: 0.2500\n",
            "Epoch 101/200\n",
            "1/1 [==============================] - 0s 100ms/step - loss: 0.0025 - accuracy: 1.0000 - val_loss: 4.1658 - val_accuracy: 0.2500\n",
            "Epoch 102/200\n",
            "1/1 [==============================] - 0s 103ms/step - loss: 0.0036 - accuracy: 1.0000 - val_loss: 4.2150 - val_accuracy: 0.2500\n",
            "Epoch 103/200\n",
            "1/1 [==============================] - 0s 100ms/step - loss: 0.0071 - accuracy: 1.0000 - val_loss: 4.2303 - val_accuracy: 0.2500\n",
            "Epoch 104/200\n",
            "1/1 [==============================] - 0s 103ms/step - loss: 0.0027 - accuracy: 1.0000 - val_loss: 4.2484 - val_accuracy: 0.2500\n",
            "Epoch 105/200\n",
            "1/1 [==============================] - 0s 102ms/step - loss: 0.0026 - accuracy: 1.0000 - val_loss: 4.2716 - val_accuracy: 0.2500\n",
            "Epoch 106/200\n",
            "1/1 [==============================] - 0s 98ms/step - loss: 0.0106 - accuracy: 1.0000 - val_loss: 4.3091 - val_accuracy: 0.2500\n",
            "Epoch 107/200\n",
            "1/1 [==============================] - 0s 99ms/step - loss: 0.0051 - accuracy: 1.0000 - val_loss: 4.3126 - val_accuracy: 0.2500\n",
            "Epoch 108/200\n",
            "1/1 [==============================] - 0s 101ms/step - loss: 0.0030 - accuracy: 1.0000 - val_loss: 4.3136 - val_accuracy: 0.2500\n",
            "Epoch 109/200\n",
            "1/1 [==============================] - 0s 102ms/step - loss: 0.0038 - accuracy: 1.0000 - val_loss: 4.2940 - val_accuracy: 0.2500\n",
            "Epoch 110/200\n",
            "1/1 [==============================] - 0s 102ms/step - loss: 0.0013 - accuracy: 1.0000 - val_loss: 4.2754 - val_accuracy: 0.2500\n",
            "Epoch 111/200\n",
            "1/1 [==============================] - 0s 100ms/step - loss: 0.0025 - accuracy: 1.0000 - val_loss: 4.2418 - val_accuracy: 0.2500\n",
            "Epoch 112/200\n",
            "1/1 [==============================] - 0s 98ms/step - loss: 0.0027 - accuracy: 1.0000 - val_loss: 4.2006 - val_accuracy: 0.2500\n",
            "Epoch 113/200\n",
            "1/1 [==============================] - 0s 102ms/step - loss: 0.0015 - accuracy: 1.0000 - val_loss: 4.1624 - val_accuracy: 0.2500\n",
            "Epoch 114/200\n",
            "1/1 [==============================] - 0s 103ms/step - loss: 7.2217e-04 - accuracy: 1.0000 - val_loss: 4.1278 - val_accuracy: 0.2500\n",
            "Epoch 115/200\n",
            "1/1 [==============================] - 0s 99ms/step - loss: 0.0030 - accuracy: 1.0000 - val_loss: 4.1046 - val_accuracy: 0.2500\n",
            "Epoch 116/200\n",
            "1/1 [==============================] - 0s 105ms/step - loss: 0.0023 - accuracy: 1.0000 - val_loss: 4.0927 - val_accuracy: 0.2500\n",
            "Epoch 117/200\n",
            "1/1 [==============================] - 0s 112ms/step - loss: 0.0021 - accuracy: 1.0000 - val_loss: 4.0871 - val_accuracy: 0.2500\n",
            "Epoch 118/200\n",
            "1/1 [==============================] - 0s 102ms/step - loss: 0.0045 - accuracy: 1.0000 - val_loss: 4.1239 - val_accuracy: 0.2500\n",
            "Epoch 119/200\n",
            "1/1 [==============================] - 0s 102ms/step - loss: 7.8892e-04 - accuracy: 1.0000 - val_loss: 4.1514 - val_accuracy: 0.2500\n",
            "Epoch 120/200\n",
            "1/1 [==============================] - 0s 98ms/step - loss: 0.0020 - accuracy: 1.0000 - val_loss: 4.1852 - val_accuracy: 0.3333\n",
            "Epoch 121/200\n",
            "1/1 [==============================] - 0s 114ms/step - loss: 0.0041 - accuracy: 1.0000 - val_loss: 4.2550 - val_accuracy: 0.3333\n",
            "Epoch 122/200\n",
            "1/1 [==============================] - 0s 97ms/step - loss: 0.0012 - accuracy: 1.0000 - val_loss: 4.3218 - val_accuracy: 0.3333\n",
            "Epoch 123/200\n",
            "1/1 [==============================] - 0s 99ms/step - loss: 6.5668e-04 - accuracy: 1.0000 - val_loss: 4.3818 - val_accuracy: 0.3333\n",
            "Epoch 124/200\n",
            "1/1 [==============================] - 0s 103ms/step - loss: 0.0015 - accuracy: 1.0000 - val_loss: 4.4635 - val_accuracy: 0.3333\n",
            "Epoch 125/200\n",
            "1/1 [==============================] - 0s 101ms/step - loss: 5.1376e-04 - accuracy: 1.0000 - val_loss: 4.5364 - val_accuracy: 0.3333\n",
            "Epoch 126/200\n",
            "1/1 [==============================] - 0s 97ms/step - loss: 9.1159e-04 - accuracy: 1.0000 - val_loss: 4.6072 - val_accuracy: 0.3333\n",
            "Epoch 127/200\n",
            "1/1 [==============================] - 0s 99ms/step - loss: 7.4827e-04 - accuracy: 1.0000 - val_loss: 4.6749 - val_accuracy: 0.3333\n",
            "Epoch 128/200\n",
            "1/1 [==============================] - 0s 103ms/step - loss: 0.0010 - accuracy: 1.0000 - val_loss: 4.7262 - val_accuracy: 0.3333\n",
            "Epoch 129/200\n",
            "1/1 [==============================] - 0s 103ms/step - loss: 0.0011 - accuracy: 1.0000 - val_loss: 4.7714 - val_accuracy: 0.3333\n",
            "Epoch 130/200\n",
            "1/1 [==============================] - 0s 98ms/step - loss: 0.0024 - accuracy: 1.0000 - val_loss: 4.8179 - val_accuracy: 0.3333\n",
            "Epoch 131/200\n",
            "1/1 [==============================] - 0s 99ms/step - loss: 0.0029 - accuracy: 1.0000 - val_loss: 4.9849 - val_accuracy: 0.2500\n",
            "Epoch 132/200\n",
            "1/1 [==============================] - 0s 100ms/step - loss: 0.0011 - accuracy: 1.0000 - val_loss: 5.1472 - val_accuracy: 0.2500\n",
            "Epoch 133/200\n",
            "1/1 [==============================] - 0s 99ms/step - loss: 5.4206e-04 - accuracy: 1.0000 - val_loss: 5.3088 - val_accuracy: 0.2500\n",
            "Epoch 134/200\n",
            "1/1 [==============================] - 0s 99ms/step - loss: 7.4053e-04 - accuracy: 1.0000 - val_loss: 5.4648 - val_accuracy: 0.2500\n",
            "Epoch 135/200\n",
            "1/1 [==============================] - 0s 100ms/step - loss: 4.5034e-04 - accuracy: 1.0000 - val_loss: 5.6070 - val_accuracy: 0.2500\n",
            "Epoch 136/200\n",
            "1/1 [==============================] - 0s 103ms/step - loss: 8.3699e-04 - accuracy: 1.0000 - val_loss: 5.7353 - val_accuracy: 0.2500\n",
            "Epoch 137/200\n",
            "1/1 [==============================] - 0s 102ms/step - loss: 6.1639e-04 - accuracy: 1.0000 - val_loss: 5.8473 - val_accuracy: 0.2500\n",
            "Epoch 138/200\n",
            "1/1 [==============================] - 0s 104ms/step - loss: 4.3440e-04 - accuracy: 1.0000 - val_loss: 5.9438 - val_accuracy: 0.2500\n",
            "Epoch 139/200\n",
            "1/1 [==============================] - 0s 98ms/step - loss: 0.0021 - accuracy: 1.0000 - val_loss: 6.0118 - val_accuracy: 0.2500\n",
            "Epoch 140/200\n",
            "1/1 [==============================] - 0s 100ms/step - loss: 0.0017 - accuracy: 1.0000 - val_loss: 6.0274 - val_accuracy: 0.2500\n",
            "Epoch 141/200\n",
            "1/1 [==============================] - 0s 101ms/step - loss: 2.0138e-04 - accuracy: 1.0000 - val_loss: 6.0393 - val_accuracy: 0.2500\n",
            "Epoch 142/200\n",
            "1/1 [==============================] - 0s 97ms/step - loss: 8.7964e-04 - accuracy: 1.0000 - val_loss: 6.0519 - val_accuracy: 0.2500\n",
            "Epoch 143/200\n",
            "1/1 [==============================] - 0s 102ms/step - loss: 3.8139e-04 - accuracy: 1.0000 - val_loss: 6.0590 - val_accuracy: 0.2500\n",
            "Epoch 144/200\n",
            "1/1 [==============================] - 0s 101ms/step - loss: 5.7168e-04 - accuracy: 1.0000 - val_loss: 6.0578 - val_accuracy: 0.2500\n",
            "Epoch 145/200\n",
            "1/1 [==============================] - 0s 100ms/step - loss: 7.9526e-04 - accuracy: 1.0000 - val_loss: 6.0423 - val_accuracy: 0.2500\n",
            "Epoch 146/200\n",
            "1/1 [==============================] - 0s 100ms/step - loss: 9.5496e-04 - accuracy: 1.0000 - val_loss: 6.0139 - val_accuracy: 0.2500\n",
            "Epoch 147/200\n",
            "1/1 [==============================] - 0s 106ms/step - loss: 1.5808e-04 - accuracy: 1.0000 - val_loss: 5.9871 - val_accuracy: 0.2500\n",
            "Epoch 148/200\n",
            "1/1 [==============================] - 0s 98ms/step - loss: 4.8048e-04 - accuracy: 1.0000 - val_loss: 5.9637 - val_accuracy: 0.2500\n",
            "Epoch 149/200\n",
            "1/1 [==============================] - 0s 103ms/step - loss: 6.5732e-04 - accuracy: 1.0000 - val_loss: 5.9373 - val_accuracy: 0.2500\n",
            "Epoch 150/200\n",
            "1/1 [==============================] - 0s 98ms/step - loss: 8.9766e-04 - accuracy: 1.0000 - val_loss: 5.9133 - val_accuracy: 0.2500\n",
            "Epoch 151/200\n",
            "1/1 [==============================] - 0s 102ms/step - loss: 7.2915e-04 - accuracy: 1.0000 - val_loss: 5.8922 - val_accuracy: 0.2500\n",
            "Epoch 152/200\n",
            "1/1 [==============================] - 0s 103ms/step - loss: 4.9555e-04 - accuracy: 1.0000 - val_loss: 5.8744 - val_accuracy: 0.2500\n",
            "Epoch 153/200\n",
            "1/1 [==============================] - 0s 105ms/step - loss: 0.0010 - accuracy: 1.0000 - val_loss: 5.8613 - val_accuracy: 0.2500\n",
            "Epoch 154/200\n",
            "1/1 [==============================] - 0s 108ms/step - loss: 3.0694e-04 - accuracy: 1.0000 - val_loss: 5.8521 - val_accuracy: 0.2500\n",
            "Epoch 155/200\n",
            "1/1 [==============================] - 0s 104ms/step - loss: 2.7932e-04 - accuracy: 1.0000 - val_loss: 5.8439 - val_accuracy: 0.3333\n",
            "Epoch 156/200\n",
            "1/1 [==============================] - 0s 100ms/step - loss: 5.4625e-04 - accuracy: 1.0000 - val_loss: 5.8341 - val_accuracy: 0.3333\n",
            "Epoch 157/200\n",
            "1/1 [==============================] - 0s 103ms/step - loss: 3.0917e-04 - accuracy: 1.0000 - val_loss: 5.8226 - val_accuracy: 0.3333\n",
            "Epoch 158/200\n",
            "1/1 [==============================] - 0s 99ms/step - loss: 0.0015 - accuracy: 1.0000 - val_loss: 5.8265 - val_accuracy: 0.3333\n",
            "Epoch 159/200\n",
            "1/1 [==============================] - 0s 100ms/step - loss: 9.3351e-05 - accuracy: 1.0000 - val_loss: 5.8298 - val_accuracy: 0.3333\n",
            "Epoch 160/200\n",
            "1/1 [==============================] - 0s 102ms/step - loss: 3.1116e-04 - accuracy: 1.0000 - val_loss: 5.8330 - val_accuracy: 0.3333\n",
            "Epoch 161/200\n",
            "1/1 [==============================] - 0s 100ms/step - loss: 7.0026e-04 - accuracy: 1.0000 - val_loss: 5.8386 - val_accuracy: 0.3333\n",
            "Epoch 162/200\n",
            "1/1 [==============================] - 0s 102ms/step - loss: 2.6173e-04 - accuracy: 1.0000 - val_loss: 5.8437 - val_accuracy: 0.3333\n",
            "Epoch 163/200\n",
            "1/1 [==============================] - 0s 100ms/step - loss: 0.0039 - accuracy: 1.0000 - val_loss: 5.8731 - val_accuracy: 0.3333\n",
            "Epoch 164/200\n",
            "1/1 [==============================] - 0s 102ms/step - loss: 2.5980e-04 - accuracy: 1.0000 - val_loss: 5.8994 - val_accuracy: 0.3333\n",
            "Epoch 165/200\n",
            "1/1 [==============================] - 0s 102ms/step - loss: 1.3792e-04 - accuracy: 1.0000 - val_loss: 5.9186 - val_accuracy: 0.3333\n",
            "Epoch 166/200\n",
            "1/1 [==============================] - 0s 106ms/step - loss: 5.4894e-04 - accuracy: 1.0000 - val_loss: 5.9295 - val_accuracy: 0.3333\n",
            "Epoch 167/200\n",
            "1/1 [==============================] - 0s 101ms/step - loss: 4.4673e-04 - accuracy: 1.0000 - val_loss: 5.9413 - val_accuracy: 0.2500\n",
            "Epoch 168/200\n",
            "1/1 [==============================] - 0s 101ms/step - loss: 1.8989e-04 - accuracy: 1.0000 - val_loss: 5.9492 - val_accuracy: 0.2500\n",
            "Epoch 169/200\n",
            "1/1 [==============================] - 0s 104ms/step - loss: 2.1001e-04 - accuracy: 1.0000 - val_loss: 5.9542 - val_accuracy: 0.2500\n",
            "Epoch 170/200\n",
            "1/1 [==============================] - 0s 102ms/step - loss: 1.8435e-04 - accuracy: 1.0000 - val_loss: 5.9572 - val_accuracy: 0.2500\n",
            "Epoch 171/200\n",
            "1/1 [==============================] - 0s 106ms/step - loss: 3.5173e-04 - accuracy: 1.0000 - val_loss: 5.9601 - val_accuracy: 0.2500\n",
            "Epoch 172/200\n",
            "1/1 [==============================] - 0s 106ms/step - loss: 0.0014 - accuracy: 1.0000 - val_loss: 5.9755 - val_accuracy: 0.2500\n",
            "Epoch 173/200\n",
            "1/1 [==============================] - 0s 102ms/step - loss: 1.3428e-04 - accuracy: 1.0000 - val_loss: 5.9896 - val_accuracy: 0.2500\n",
            "Epoch 174/200\n",
            "1/1 [==============================] - 0s 111ms/step - loss: 2.2612e-04 - accuracy: 1.0000 - val_loss: 6.0022 - val_accuracy: 0.2500\n",
            "Epoch 175/200\n",
            "1/1 [==============================] - 0s 104ms/step - loss: 1.3106e-04 - accuracy: 1.0000 - val_loss: 6.0128 - val_accuracy: 0.2500\n",
            "Epoch 176/200\n",
            "1/1 [==============================] - 0s 108ms/step - loss: 3.8270e-04 - accuracy: 1.0000 - val_loss: 6.0207 - val_accuracy: 0.2500\n",
            "Epoch 177/200\n",
            "1/1 [==============================] - 0s 107ms/step - loss: 8.0939e-04 - accuracy: 1.0000 - val_loss: 6.0063 - val_accuracy: 0.2500\n",
            "Epoch 178/200\n",
            "1/1 [==============================] - 0s 100ms/step - loss: 4.2523e-04 - accuracy: 1.0000 - val_loss: 5.9936 - val_accuracy: 0.2500\n",
            "Epoch 179/200\n",
            "1/1 [==============================] - 0s 103ms/step - loss: 4.3455e-04 - accuracy: 1.0000 - val_loss: 5.9800 - val_accuracy: 0.2500\n",
            "Epoch 180/200\n",
            "1/1 [==============================] - 0s 103ms/step - loss: 5.6190e-04 - accuracy: 1.0000 - val_loss: 5.9669 - val_accuracy: 0.3333\n",
            "Epoch 181/200\n",
            "1/1 [==============================] - 0s 102ms/step - loss: 1.0889e-04 - accuracy: 1.0000 - val_loss: 5.9536 - val_accuracy: 0.3333\n",
            "Epoch 182/200\n",
            "1/1 [==============================] - 0s 100ms/step - loss: 8.3573e-04 - accuracy: 1.0000 - val_loss: 5.9336 - val_accuracy: 0.3333\n",
            "Epoch 183/200\n",
            "1/1 [==============================] - 0s 105ms/step - loss: 1.3447e-04 - accuracy: 1.0000 - val_loss: 5.9153 - val_accuracy: 0.3333\n",
            "Epoch 184/200\n",
            "1/1 [==============================] - 0s 100ms/step - loss: 3.5046e-04 - accuracy: 1.0000 - val_loss: 5.8989 - val_accuracy: 0.3333\n",
            "Epoch 185/200\n",
            "1/1 [==============================] - 0s 99ms/step - loss: 2.3038e-04 - accuracy: 1.0000 - val_loss: 5.8831 - val_accuracy: 0.3333\n",
            "Epoch 186/200\n",
            "1/1 [==============================] - 0s 103ms/step - loss: 1.5185e-04 - accuracy: 1.0000 - val_loss: 5.8679 - val_accuracy: 0.3333\n",
            "Epoch 187/200\n",
            "1/1 [==============================] - 0s 102ms/step - loss: 7.1182e-05 - accuracy: 1.0000 - val_loss: 5.8519 - val_accuracy: 0.3333\n",
            "Epoch 188/200\n",
            "1/1 [==============================] - 0s 100ms/step - loss: 5.3452e-04 - accuracy: 1.0000 - val_loss: 5.8438 - val_accuracy: 0.3333\n",
            "Epoch 189/200\n",
            "1/1 [==============================] - 0s 108ms/step - loss: 1.4306e-04 - accuracy: 1.0000 - val_loss: 5.8384 - val_accuracy: 0.3333\n",
            "Epoch 190/200\n",
            "1/1 [==============================] - 0s 100ms/step - loss: 6.5891e-05 - accuracy: 1.0000 - val_loss: 5.8343 - val_accuracy: 0.3333\n",
            "Epoch 191/200\n",
            "1/1 [==============================] - 0s 103ms/step - loss: 3.4837e-04 - accuracy: 1.0000 - val_loss: 5.8313 - val_accuracy: 0.3333\n",
            "Epoch 192/200\n",
            "1/1 [==============================] - 0s 100ms/step - loss: 1.2474e-04 - accuracy: 1.0000 - val_loss: 5.8285 - val_accuracy: 0.3333\n",
            "Epoch 193/200\n",
            "1/1 [==============================] - 0s 100ms/step - loss: 2.3272e-04 - accuracy: 1.0000 - val_loss: 5.8269 - val_accuracy: 0.3333\n",
            "Epoch 194/200\n",
            "1/1 [==============================] - 0s 108ms/step - loss: 6.1631e-05 - accuracy: 1.0000 - val_loss: 5.8254 - val_accuracy: 0.3333\n",
            "Epoch 195/200\n",
            "1/1 [==============================] - 0s 104ms/step - loss: 0.0024 - accuracy: 1.0000 - val_loss: 5.8265 - val_accuracy: 0.3333\n",
            "Epoch 196/200\n",
            "1/1 [==============================] - 0s 98ms/step - loss: 9.2659e-05 - accuracy: 1.0000 - val_loss: 5.8272 - val_accuracy: 0.3333\n",
            "Epoch 197/200\n",
            "1/1 [==============================] - 0s 106ms/step - loss: 4.2375e-05 - accuracy: 1.0000 - val_loss: 5.8283 - val_accuracy: 0.3333\n",
            "Epoch 198/200\n",
            "1/1 [==============================] - 0s 105ms/step - loss: 1.4328e-04 - accuracy: 1.0000 - val_loss: 5.8295 - val_accuracy: 0.3333\n",
            "Epoch 199/200\n",
            "1/1 [==============================] - 0s 91ms/step - loss: 4.1704e-04 - accuracy: 1.0000 - val_loss: 5.8193 - val_accuracy: 0.3333\n",
            "Epoch 200/200\n",
            "1/1 [==============================] - 0s 95ms/step - loss: 1.2590e-04 - accuracy: 1.0000 - val_loss: 5.8091 - val_accuracy: 0.3333\n"
          ]
        }
      ]
    },
    {
      "metadata": {
        "id": "yG0CKOI1Yoao"
      },
      "cell_type": "markdown",
      "source": [
        "\n",
        "Vamos plotar a perda de validação e a precisão da validação ao longo do tempo."
      ]
    },
    {
      "metadata": {
        "id": "_CCPq_ndYoap",
        "colab": {
          "base_uri": "https://localhost:8080/",
          "height": 295
        },
        "outputId": "07ec1c2d-c2ad-4757-d544-0b725bb45835"
      },
      "cell_type": "code",
      "source": [
        "fig = plt.figure(figsize=(16,4))\n",
        "ax = fig.add_subplot(121)\n",
        "ax.plot(history.history[\"val_loss\"])\n",
        "ax.set_title(\"validation loss\")\n",
        "ax.set_xlabel(\"epochs\")\n",
        "\n",
        "ax2 = fig.add_subplot(122)\n",
        "ax2.plot(history.history[\"accuracy\"])\n",
        "ax2.set_title(\"validation accuracy\")\n",
        "ax2.set_xlabel(\"epochs\")\n",
        "ax2.set_ylim(0, 1)\n",
        "\n",
        "plt.show()"
      ],
      "execution_count": 127,
      "outputs": [
        {
          "output_type": "display_data",
          "data": {
            "text/plain": [
              "<Figure size 1152x288 with 2 Axes>"
            ],
            "image/png": "[encoded data removed]"
          },
          "metadata": {
            "needs_background": "light"
          }
        }
      ]
    },
    {
      "metadata": {
        "id": "GI7Mj6-RYoau"
      },
      "cell_type": "markdown",
      "source": [
        "Observe que a perda de validação começa a aumentar após cerca de 16 épocas, embora a precisão da validação permaneça aproximadamente entre 40% e 50%. Isso sugere que nosso modelo começa a se ajustar por volta dessa época, e o melhor desempenho teria sido alcançado se tivéssemos parado cedo nessa época. No entanto, nossa precisão provavelmente não teria sido superior a 50%, e provavelmente inferior.\n",
        "\n",
        "Também podemos obter uma avaliação final executando nosso modelo no conjunto de treinamento. Fazendo isso, obtemos os seguintes resultados:"
      ]
    },
    {
      "metadata": {
        "id": "8Itd5LDAYoav",
        "colab": {
          "base_uri": "https://localhost:8080/"
        },
        "outputId": "7e71df96-7f22-405a-c508-b10278a9b5f8"
      },
      "cell_type": "code",
      "source": [
        "loss, accuracy = model.evaluate(x_test, y_test, verbose=0)\n",
        "print('Test loss:', loss)\n",
        "print('Test accuracy:', accuracy)"
      ],
      "execution_count": 128,
      "outputs": [
        {
          "output_type": "stream",
          "name": "stdout",
          "text": [
            "Test loss: 1.295031189918518\n",
            "Test accuracy: 0.6666666865348816\n"
          ]
        }
      ]
    },
    {
      "metadata": {
        "id": "vIwMY_ZXYoax"
      },
      "cell_type": "markdown",
      "source": [
        "Por fim, vemos que atingimos uma precisão (top-1) de cerca de 49%. Isso não é tão ruim para 6000 imagens, considerando que se usássemos uma estratégia ingênua de fazer suposições aleatórias, teríamos obtido apenas cerca de 1% de precisão.\n",
        "\n",
        "## Transfira o aprendizado começando com a rede existente\n",
        "\n",
        "Agora podemos passar para a estratégia principal para treinar um classificador de imagens em nosso pequeno conjunto de dados: começando com uma rede maior e já treinada.\n",
        "\n",
        "Para começar, vamos carregar o VGG16 do keras, que foi treinado no ImageNet e os pesos salvos online. Se esta for sua primeira vez carregando o VGG16, você precisará esperar um pouco para que os pesos sejam baixados da web. Uma vez que a rede é carregada, podemos inspecionar novamente as camadas com o método `summary()`."
      ]
    },
    {
      "metadata": {
        "id": "KpUDAbxiYoay",
        "colab": {
          "base_uri": "https://localhost:8080/"
        },
        "outputId": "58032901-41aa-409f-ee2e-bc4fb8e5347b"
      },
      "cell_type": "code",
      "source": [
        "vgg = keras.applications.vgg16.VGG16(weights='imagenet', include_top=True)\n",
        "vgg.summary()"
      ],
      "execution_count": 129,
      "outputs": [
        {
          "output_type": "stream",
          "name": "stdout",
          "text": [
            "Model: \"vgg16\"\n",
            "_________________________________________________________________\n",
            " Layer (type)                Output Shape              Param #   \n",
            "=================================================================\n",
            " input_3 (InputLayer)        [(None, 224, 224, 3)]     0         \n",
            "                                                                 \n",
            " block1_conv1 (Conv2D)       (None, 224, 224, 64)      1792      \n",
            "                                                                 \n",
            " block1_conv2 (Conv2D)       (None, 224, 224, 64)      36928     \n",
            "                                                                 \n",
            " block1_pool (MaxPooling2D)  (None, 112, 112, 64)      0         \n",
            "                                                                 \n",
            " block2_conv1 (Conv2D)       (None, 112, 112, 128)     73856     \n",
            "                                                                 \n",
            " block2_conv2 (Conv2D)       (None, 112, 112, 128)     147584    \n",
            "                                                                 \n",
            " block2_pool (MaxPooling2D)  (None, 56, 56, 128)       0         \n",
            "                                                                 \n",
            " block3_conv1 (Conv2D)       (None, 56, 56, 256)       295168    \n",
            "                                                                 \n",
            " block3_conv2 (Conv2D)       (None, 56, 56, 256)       590080    \n",
            "                                                                 \n",
            " block3_conv3 (Conv2D)       (None, 56, 56, 256)       590080    \n",
            "                                                                 \n",
            " block3_pool (MaxPooling2D)  (None, 28, 28, 256)       0         \n",
            "                                                                 \n",
            " block4_conv1 (Conv2D)       (None, 28, 28, 512)       1180160   \n",
            "                                                                 \n",
            " block4_conv2 (Conv2D)       (None, 28, 28, 512)       2359808   \n",
            "                                                                 \n",
            " block4_conv3 (Conv2D)       (None, 28, 28, 512)       2359808   \n",
            "                                                                 \n",
            " block4_pool (MaxPooling2D)  (None, 14, 14, 512)       0         \n",
            "                                                                 \n",
            " block5_conv1 (Conv2D)       (None, 14, 14, 512)       2359808   \n",
            "                                                                 \n",
            " block5_conv2 (Conv2D)       (None, 14, 14, 512)       2359808   \n",
            "                                                                 \n",
            " block5_conv3 (Conv2D)       (None, 14, 14, 512)       2359808   \n",
            "                                                                 \n",
            " block5_pool (MaxPooling2D)  (None, 7, 7, 512)         0         \n",
            "                                                                 \n",
            " flatten (Flatten)           (None, 25088)             0         \n",
            "                                                                 \n",
            " fc1 (Dense)                 (None, 4096)              102764544 \n",
            "                                                                 \n",
            " fc2 (Dense)                 (None, 4096)              16781312  \n",
            "                                                                 \n",
            " predictions (Dense)         (None, 1000)              4097000   \n",
            "                                                                 \n",
            "=================================================================\n",
            "Total params: 138,357,544\n",
            "Trainable params: 138,357,544\n",
            "Non-trainable params: 0\n",
            "_________________________________________________________________\n"
          ]
        }
      ]
    },
    {
      "metadata": {
        "id": "hLXTofcNYoa2"
      },
      "cell_type": "markdown",
      "source": [
        "**Notice** que VGG16 é _muito_ maior que a rede que construímos anteriormente. Ele contém 13 camadas convolucionais e duas camadas totalmente conectadas no final, e tem mais de 138 milhões de parâmetros, cerca de 100 vezes mais parâmetros do que a rede que fizemos acima. Como nossa primeira rede, a maioria dos parâmetros é armazenada nas conexões que levam à primeira camada totalmente conectada.\n",
        "\n",
        "O VGG16 foi feito para resolver o ImageNet e atinge uma [taxa de erro dos 5 principais 8,8%](https://github.com/jcjohnson/cnn-benchmarks), o que significa que 91,2% das amostras de teste foram classificadas corretamente entre os 5 principais previsões para cada imagem. A precisão top 1 - equivalente à métrica de precisão que estamos usando (que a previsão principal está correta) - é de 73%. Isso é especialmente impressionante, pois não há apenas 97, mas 1.000 classes, o que significa que suposições aleatórias nos dariam apenas 0,1% de precisão.\n",
        "\n",
        "Para usar essa rede para nossa tarefa, 'removemos' a camada de classificação final, a camada softmax de 1000 neurônios no final, que corresponde ao ImageNet, e a substituímos por uma nova camada softmax para nosso conjunto de dados, que contém 97 neurônios no caso do conjunto de dados 101_ObjectCategories.\n",
        "\n",
        "Em termos de implementação, é mais fácil simplesmente criar uma cópia do VGG de sua camada de entrada até a penúltima camada e trabalhar com isso, em vez de modificar o objeto VGG diretamente. Então, tecnicamente, nunca 'removemos' nada, apenas contornamos/ignoramos. Isso pode ser feito da seguinte maneira, usando a classe keras `Model` para inicializar um novo modelo cuja camada de entrada é a mesma que VGG, mas cuja camada de saída é nossa nova camada softmax, chamada `new_classification_layer`. Nota: embora pareça que estamos duplicando essa grande rede, internamente o Keras está apenas copiando todas as camadas por referência e, portanto, não precisamos nos preocupar em sobrecarregar a memória."
      ]
    },
    {
      "metadata": {
        "id": "rFL-fLitYoa3"
      },
      "cell_type": "code",
      "source": [
        "# make a reference to VGG's input layer\n",
        "inp = vgg.input\n",
        "\n",
        "# make a new softmax layer with num_classes neurons\n",
        "new_classification_layer = Dense(num_classes, activation='softmax')\n",
        "\n",
        "# connect our new layer to the second to last layer in VGG, and make a reference to it\n",
        "out = new_classification_layer(vgg.layers[-2].output)\n",
        "\n",
        "# create a new network between inp and out\n",
        "model_new = Model(inp, out)\n"
      ],
      "execution_count": 130,
      "outputs": []
    },
    {
      "metadata": {
        "id": "MBIp3fbQYoa9"
      },
      "cell_type": "markdown",
      "source": [
        "Vamos treinar novamente esta rede, `model_new` no novo conjunto de dados e rótulos. Mas primeiro, precisamos congelar os pesos e desvios em todas as camadas da rede, exceto nossa nova no final, com a expectativa de que os recursos aprendidos no VGG ainda sejam bastante relevantes para a nova tarefa de classificação de imagens. Não é o ideal, mas provavelmente melhor do que podemos treinar em nosso conjunto de dados limitado. \n",
        "\n",
        "Ao definir o sinalizador `trainable` em cada camada como false (exceto nossa nova camada de classificação), garantimos que todos os pesos e vieses nessas camadas permaneçam fixos e simplesmente treinamos os pesos em uma camada no final. Em alguns casos, é desejável *não* congelar todas as camadas de pré-classificação. Se o seu conjunto de dados tiver amostras suficientes e não se assemelhar muito ao ImageNet, pode ser vantajoso ajustar algumas das camadas VGG junto com o novo classificador, ou possivelmente até mesmo todas elas. Para fazer isso, você pode alterar o código abaixo para tornar mais das camadas treináveis.\n",
        "\n",
        "No caso do CalTech-101, faremos apenas a extração de recursos, temendo que o ajuste fino demais com esse conjunto de dados possa ser excessivo. Mas talvez estejamos errados? Um bom exercício seria experimentar ambos e comparar os resultados.\n",
        "\n",
        "Então vamos em frente e congelamos as camadas, e compilamos o novo modelo com exatamente o mesmo otimizador e função de perda que em nossa primeira rede, para uma comparação justa. Em seguida, executamos o `summary` novamente para observar a arquitetura da rede."
      ]
    },
    {
      "metadata": {
        "id": "e_n5A8oGYoa9",
        "colab": {
          "base_uri": "https://localhost:8080/"
        },
        "outputId": "761eb5e7-8a91-4509-9e7a-1f6419d8bb35"
      },
      "cell_type": "code",
      "source": [
        "# make all layers untrainable by freezing weights (except for last layer)\n",
        "for l, layer in enumerate(model_new.layers[:-1]):\n",
        "    layer.trainable = False\n",
        "\n",
        "# ensure the last layer is trainable/not frozen\n",
        "for l, layer in enumerate(model_new.layers[-1:]):\n",
        "    layer.trainable = True\n",
        "\n",
        "model_new.compile(loss='categorical_crossentropy',\n",
        "              optimizer='adam',\n",
        "              metrics=['accuracy'])\n",
        "\n",
        "model_new.summary()"
      ],
      "execution_count": 131,
      "outputs": [
        {
          "output_type": "stream",
          "name": "stdout",
          "text": [
            "Model: \"model_2\"\n",
            "_________________________________________________________________\n",
            " Layer (type)                Output Shape              Param #   \n",
            "=================================================================\n",
            " input_3 (InputLayer)        [(None, 224, 224, 3)]     0         \n",
            "                                                                 \n",
            " block1_conv1 (Conv2D)       (None, 224, 224, 64)      1792      \n",
            "                                                                 \n",
            " block1_conv2 (Conv2D)       (None, 224, 224, 64)      36928     \n",
            "                                                                 \n",
            " block1_pool (MaxPooling2D)  (None, 112, 112, 64)      0         \n",
            "                                                                 \n",
            " block2_conv1 (Conv2D)       (None, 112, 112, 128)     73856     \n",
            "                                                                 \n",
            " block2_conv2 (Conv2D)       (None, 112, 112, 128)     147584    \n",
            "                                                                 \n",
            " block2_pool (MaxPooling2D)  (None, 56, 56, 128)       0         \n",
            "                                                                 \n",
            " block3_conv1 (Conv2D)       (None, 56, 56, 256)       295168    \n",
            "                                                                 \n",
            " block3_conv2 (Conv2D)       (None, 56, 56, 256)       590080    \n",
            "                                                                 \n",
            " block3_conv3 (Conv2D)       (None, 56, 56, 256)       590080    \n",
            "                                                                 \n",
            " block3_pool (MaxPooling2D)  (None, 28, 28, 256)       0         \n",
            "                                                                 \n",
            " block4_conv1 (Conv2D)       (None, 28, 28, 512)       1180160   \n",
            "                                                                 \n",
            " block4_conv2 (Conv2D)       (None, 28, 28, 512)       2359808   \n",
            "                                                                 \n",
            " block4_conv3 (Conv2D)       (None, 28, 28, 512)       2359808   \n",
            "                                                                 \n",
            " block4_pool (MaxPooling2D)  (None, 14, 14, 512)       0         \n",
            "                                                                 \n",
            " block5_conv1 (Conv2D)       (None, 14, 14, 512)       2359808   \n",
            "                                                                 \n",
            " block5_conv2 (Conv2D)       (None, 14, 14, 512)       2359808   \n",
            "                                                                 \n",
            " block5_conv3 (Conv2D)       (None, 14, 14, 512)       2359808   \n",
            "                                                                 \n",
            " block5_pool (MaxPooling2D)  (None, 7, 7, 512)         0         \n",
            "                                                                 \n",
            " flatten (Flatten)           (None, 25088)             0         \n",
            "                                                                 \n",
            " fc1 (Dense)                 (None, 4096)              102764544 \n",
            "                                                                 \n",
            " fc2 (Dense)                 (None, 4096)              16781312  \n",
            "                                                                 \n",
            " dense_14 (Dense)            (None, 3)                 12291     \n",
            "                                                                 \n",
            "=================================================================\n",
            "Total params: 134,272,835\n",
            "Trainable params: 12,291\n",
            "Non-trainable params: 134,260,544\n",
            "_________________________________________________________________\n"
          ]
        }
      ]
    },
    {
      "metadata": {
        "id": "8B9G0gC1YobD"
      },
      "cell_type": "markdown",
      "source": [
        "Observando o resumo, vemos que a rede é idêntica ao modelo VGG que instanciamos anteriormente, exceto que a última camada, anteriormente um softmax de 1.000 neurônios, foi substituída por um novo softmax de 97 neurônios. Além disso, ainda temos cerca de 134 milhões de pesos, mas agora a grande maioria deles são 'parâmetros não treináveis' porque congelamos as camadas em que estão contidos. Agora temos apenas 397.000 parâmetros treináveis, o que na verdade é apenas um quarto dos número de parâmetros necessários para treinar o primeiro modelo.\n",
        "\n",
        "Como antes, vamos em frente e treinamos o novo modelo, usando os mesmos hiperparâmetros (tamanho do lote e número de épocas) de antes, juntamente com o mesmo algoritmo de otimização. Também acompanhamos sua história à medida que avançamos."
      ]
    },
    {
      "metadata": {
        "id": "aDdq71XNYobD",
        "colab": {
          "base_uri": "https://localhost:8080/"
        },
        "outputId": "fac008ae-fdaa-463d-c75b-cc5e91fce158"
      },
      "cell_type": "code",
      "source": [
        "history2 = model_new.fit(x_train, y_train, \n",
        "                         batch_size=128, \n",
        "                         epochs=200, \n",
        "                         validation_data=(x_val, y_val))\n"
      ],
      "execution_count": 132,
      "outputs": [
        {
          "output_type": "stream",
          "name": "stdout",
          "text": [
            "Epoch 1/200\n",
            "1/1 [==============================] - 1s 1s/step - loss: 1.6152 - accuracy: 0.3393 - val_loss: 1.2007 - val_accuracy: 0.4167\n",
            "Epoch 2/200\n",
            "1/1 [==============================] - 0s 366ms/step - loss: 1.6563 - accuracy: 0.3214 - val_loss: 0.8248 - val_accuracy: 0.5833\n",
            "Epoch 3/200\n",
            "1/1 [==============================] - 0s 366ms/step - loss: 1.7166 - accuracy: 0.3393 - val_loss: 0.9562 - val_accuracy: 0.5833\n",
            "Epoch 4/200\n",
            "1/1 [==============================] - 0s 366ms/step - loss: 1.5375 - accuracy: 0.3393 - val_loss: 1.0307 - val_accuracy: 0.5833\n",
            "Epoch 5/200\n",
            "1/1 [==============================] - 0s 369ms/step - loss: 1.0929 - accuracy: 0.3750 - val_loss: 1.5444 - val_accuracy: 0.0000e+00\n",
            "Epoch 6/200\n",
            "1/1 [==============================] - 0s 367ms/step - loss: 1.0987 - accuracy: 0.3750 - val_loss: 1.9277 - val_accuracy: 0.0000e+00\n",
            "Epoch 7/200\n",
            "1/1 [==============================] - 0s 364ms/step - loss: 1.2393 - accuracy: 0.3750 - val_loss: 1.9095 - val_accuracy: 0.0833\n",
            "Epoch 8/200\n",
            "1/1 [==============================] - 0s 370ms/step - loss: 1.2234 - accuracy: 0.5179 - val_loss: 1.6904 - val_accuracy: 0.4167\n",
            "Epoch 9/200\n",
            "1/1 [==============================] - 0s 368ms/step - loss: 1.1370 - accuracy: 0.6071 - val_loss: 1.3521 - val_accuracy: 0.4167\n",
            "Epoch 10/200\n",
            "1/1 [==============================] - 0s 364ms/step - loss: 0.9915 - accuracy: 0.5536 - val_loss: 1.0041 - val_accuracy: 0.4167\n",
            "Epoch 11/200\n",
            "1/1 [==============================] - 0s 368ms/step - loss: 0.8473 - accuracy: 0.6250 - val_loss: 0.8654 - val_accuracy: 0.5833\n",
            "Epoch 12/200\n",
            "1/1 [==============================] - 0s 366ms/step - loss: 0.8531 - accuracy: 0.5357 - val_loss: 0.9121 - val_accuracy: 0.5833\n",
            "Epoch 13/200\n",
            "1/1 [==============================] - 0s 363ms/step - loss: 0.9384 - accuracy: 0.4107 - val_loss: 0.9420 - val_accuracy: 0.5833\n",
            "Epoch 14/200\n",
            "1/1 [==============================] - 0s 369ms/step - loss: 0.9159 - accuracy: 0.4464 - val_loss: 0.9292 - val_accuracy: 0.5833\n",
            "Epoch 15/200\n",
            "1/1 [==============================] - 0s 375ms/step - loss: 0.7960 - accuracy: 0.6250 - val_loss: 0.9701 - val_accuracy: 0.5000\n",
            "Epoch 16/200\n",
            "1/1 [==============================] - 0s 369ms/step - loss: 0.7053 - accuracy: 0.7857 - val_loss: 1.1019 - val_accuracy: 0.2500\n",
            "Epoch 17/200\n",
            "1/1 [==============================] - 0s 366ms/step - loss: 0.7055 - accuracy: 0.7321 - val_loss: 1.2358 - val_accuracy: 0.3333\n",
            "Epoch 18/200\n",
            "1/1 [==============================] - 0s 364ms/step - loss: 0.7426 - accuracy: 0.6250 - val_loss: 1.2764 - val_accuracy: 0.4167\n",
            "Epoch 19/200\n",
            "1/1 [==============================] - 0s 369ms/step - loss: 0.7475 - accuracy: 0.6250 - val_loss: 1.2015 - val_accuracy: 0.3333\n",
            "Epoch 20/200\n",
            "1/1 [==============================] - 0s 367ms/step - loss: 0.7008 - accuracy: 0.6429 - val_loss: 1.0604 - val_accuracy: 0.2500\n",
            "Epoch 21/200\n",
            "1/1 [==============================] - 0s 364ms/step - loss: 0.6322 - accuracy: 0.7857 - val_loss: 0.9375 - val_accuracy: 0.5000\n",
            "Epoch 22/200\n",
            "1/1 [==============================] - 0s 374ms/step - loss: 0.5920 - accuracy: 0.8571 - val_loss: 0.8822 - val_accuracy: 0.5833\n",
            "Epoch 23/200\n",
            "1/1 [==============================] - 0s 367ms/step - loss: 0.5991 - accuracy: 0.7679 - val_loss: 0.8658 - val_accuracy: 0.5000\n",
            "Epoch 24/200\n",
            "1/1 [==============================] - 0s 363ms/step - loss: 0.6154 - accuracy: 0.6964 - val_loss: 0.8457 - val_accuracy: 0.5833\n",
            "Epoch 25/200\n",
            "1/1 [==============================] - 0s 371ms/step - loss: 0.5990 - accuracy: 0.7143 - val_loss: 0.8297 - val_accuracy: 0.5833\n",
            "Epoch 26/200\n",
            "1/1 [==============================] - 0s 369ms/step - loss: 0.5572 - accuracy: 0.8214 - val_loss: 0.8548 - val_accuracy: 0.3333\n",
            "Epoch 27/200\n",
            "1/1 [==============================] - 0s 372ms/step - loss: 0.5278 - accuracy: 0.8750 - val_loss: 0.9213 - val_accuracy: 0.3333\n",
            "Epoch 28/200\n",
            "1/1 [==============================] - 0s 368ms/step - loss: 0.5250 - accuracy: 0.8393 - val_loss: 0.9808 - val_accuracy: 0.3333\n",
            "Epoch 29/200\n",
            "1/1 [==============================] - 0s 372ms/step - loss: 0.5265 - accuracy: 0.8214 - val_loss: 0.9966 - val_accuracy: 0.3333\n",
            "Epoch 30/200\n",
            "1/1 [==============================] - 0s 369ms/step - loss: 0.5136 - accuracy: 0.8750 - val_loss: 0.9755 - val_accuracy: 0.3333\n",
            "Epoch 31/200\n",
            "1/1 [==============================] - 0s 368ms/step - loss: 0.4919 - accuracy: 0.8929 - val_loss: 0.9445 - val_accuracy: 0.5000\n",
            "Epoch 32/200\n",
            "1/1 [==============================] - 0s 370ms/step - loss: 0.4761 - accuracy: 0.8929 - val_loss: 0.9198 - val_accuracy: 0.5833\n",
            "Epoch 33/200\n",
            "1/1 [==============================] - 0s 369ms/step - loss: 0.4702 - accuracy: 0.9107 - val_loss: 0.8976 - val_accuracy: 0.5833\n",
            "Epoch 34/200\n",
            "1/1 [==============================] - 0s 455ms/step - loss: 0.4660 - accuracy: 0.8750 - val_loss: 0.8717 - val_accuracy: 0.5833\n",
            "Epoch 35/200\n",
            "1/1 [==============================] - 0s 369ms/step - loss: 0.4545 - accuracy: 0.8750 - val_loss: 0.8481 - val_accuracy: 0.5833\n",
            "Epoch 36/200\n",
            "1/1 [==============================] - 0s 367ms/step - loss: 0.4378 - accuracy: 0.9107 - val_loss: 0.8411 - val_accuracy: 0.5000\n",
            "Epoch 37/200\n",
            "1/1 [==============================] - 0s 377ms/step - loss: 0.4257 - accuracy: 0.8929 - val_loss: 0.8536 - val_accuracy: 0.3333\n",
            "Epoch 38/200\n",
            "1/1 [==============================] - 0s 365ms/step - loss: 0.4224 - accuracy: 0.9286 - val_loss: 0.8690 - val_accuracy: 0.4167\n",
            "Epoch 39/200\n",
            "1/1 [==============================] - 0s 450ms/step - loss: 0.4202 - accuracy: 0.9107 - val_loss: 0.8707 - val_accuracy: 0.5000\n",
            "Epoch 40/200\n",
            "1/1 [==============================] - 0s 365ms/step - loss: 0.4108 - accuracy: 0.9107 - val_loss: 0.8609 - val_accuracy: 0.3333\n",
            "Epoch 41/200\n",
            "1/1 [==============================] - 0s 362ms/step - loss: 0.3968 - accuracy: 0.9107 - val_loss: 0.8540 - val_accuracy: 0.5000\n",
            "Epoch 42/200\n",
            "1/1 [==============================] - 0s 379ms/step - loss: 0.3864 - accuracy: 0.9107 - val_loss: 0.8570 - val_accuracy: 0.5833\n",
            "Epoch 43/200\n",
            "1/1 [==============================] - 0s 370ms/step - loss: 0.3822 - accuracy: 0.9107 - val_loss: 0.8641 - val_accuracy: 0.5833\n",
            "Epoch 44/200\n",
            "1/1 [==============================] - 0s 369ms/step - loss: 0.3793 - accuracy: 0.9107 - val_loss: 0.8680 - val_accuracy: 0.5833\n",
            "Epoch 45/200\n",
            "1/1 [==============================] - 0s 380ms/step - loss: 0.3729 - accuracy: 0.9107 - val_loss: 0.8684 - val_accuracy: 0.5833\n",
            "Epoch 46/200\n",
            "1/1 [==============================] - 0s 376ms/step - loss: 0.3636 - accuracy: 0.9286 - val_loss: 0.8689 - val_accuracy: 0.5833\n",
            "Epoch 47/200\n",
            "1/1 [==============================] - 0s 366ms/step - loss: 0.3555 - accuracy: 0.9464 - val_loss: 0.8697 - val_accuracy: 0.3333\n",
            "Epoch 48/200\n",
            "1/1 [==============================] - 0s 380ms/step - loss: 0.3503 - accuracy: 0.9464 - val_loss: 0.8657 - val_accuracy: 0.4167\n",
            "Epoch 49/200\n",
            "1/1 [==============================] - 0s 367ms/step - loss: 0.3460 - accuracy: 0.9821 - val_loss: 0.8531 - val_accuracy: 0.3333\n",
            "Epoch 50/200\n",
            "1/1 [==============================] - 0s 372ms/step - loss: 0.3401 - accuracy: 0.9821 - val_loss: 0.8355 - val_accuracy: 0.4167\n",
            "Epoch 51/200\n",
            "1/1 [==============================] - 0s 372ms/step - loss: 0.3332 - accuracy: 0.9643 - val_loss: 0.8210 - val_accuracy: 0.5833\n",
            "Epoch 52/200\n",
            "1/1 [==============================] - 0s 369ms/step - loss: 0.3274 - accuracy: 0.9643 - val_loss: 0.8139 - val_accuracy: 0.5833\n",
            "Epoch 53/200\n",
            "1/1 [==============================] - 0s 377ms/step - loss: 0.3234 - accuracy: 0.9464 - val_loss: 0.8133 - val_accuracy: 0.5833\n",
            "Epoch 54/200\n",
            "1/1 [==============================] - 0s 443ms/step - loss: 0.3191 - accuracy: 0.9286 - val_loss: 0.8168 - val_accuracy: 0.5833\n",
            "Epoch 55/200\n",
            "1/1 [==============================] - 0s 443ms/step - loss: 0.3135 - accuracy: 0.9821 - val_loss: 0.8237 - val_accuracy: 0.5833\n",
            "Epoch 56/200\n",
            "1/1 [==============================] - 0s 377ms/step - loss: 0.3074 - accuracy: 0.9821 - val_loss: 0.8332 - val_accuracy: 0.5833\n",
            "Epoch 57/200\n",
            "1/1 [==============================] - 0s 369ms/step - loss: 0.3025 - accuracy: 1.0000 - val_loss: 0.8421 - val_accuracy: 0.5000\n",
            "Epoch 58/200\n",
            "1/1 [==============================] - 0s 386ms/step - loss: 0.2988 - accuracy: 0.9821 - val_loss: 0.8459 - val_accuracy: 0.5000\n",
            "Epoch 59/200\n",
            "1/1 [==============================] - 0s 374ms/step - loss: 0.2951 - accuracy: 0.9821 - val_loss: 0.8427 - val_accuracy: 0.5000\n",
            "Epoch 60/200\n",
            "1/1 [==============================] - 0s 374ms/step - loss: 0.2905 - accuracy: 0.9821 - val_loss: 0.8344 - val_accuracy: 0.5833\n",
            "Epoch 61/200\n",
            "1/1 [==============================] - 0s 369ms/step - loss: 0.2856 - accuracy: 1.0000 - val_loss: 0.8249 - val_accuracy: 0.5833\n",
            "Epoch 62/200\n",
            "1/1 [==============================] - 0s 377ms/step - loss: 0.2812 - accuracy: 1.0000 - val_loss: 0.8165 - val_accuracy: 0.5833\n",
            "Epoch 63/200\n",
            "1/1 [==============================] - 0s 376ms/step - loss: 0.2776 - accuracy: 1.0000 - val_loss: 0.8101 - val_accuracy: 0.5833\n",
            "Epoch 64/200\n",
            "1/1 [==============================] - 0s 368ms/step - loss: 0.2739 - accuracy: 1.0000 - val_loss: 0.8056 - val_accuracy: 0.5833\n",
            "Epoch 65/200\n",
            "1/1 [==============================] - 0s 375ms/step - loss: 0.2699 - accuracy: 1.0000 - val_loss: 0.8037 - val_accuracy: 0.5833\n",
            "Epoch 66/200\n",
            "1/1 [==============================] - 0s 381ms/step - loss: 0.2659 - accuracy: 1.0000 - val_loss: 0.8042 - val_accuracy: 0.5833\n",
            "Epoch 67/200\n",
            "1/1 [==============================] - 0s 373ms/step - loss: 0.2623 - accuracy: 1.0000 - val_loss: 0.8056 - val_accuracy: 0.5833\n",
            "Epoch 68/200\n",
            "1/1 [==============================] - 0s 369ms/step - loss: 0.2590 - accuracy: 1.0000 - val_loss: 0.8063 - val_accuracy: 0.5833\n",
            "Epoch 69/200\n",
            "1/1 [==============================] - 0s 377ms/step - loss: 0.2556 - accuracy: 1.0000 - val_loss: 0.8057 - val_accuracy: 0.5833\n",
            "Epoch 70/200\n",
            "1/1 [==============================] - 0s 376ms/step - loss: 0.2519 - accuracy: 1.0000 - val_loss: 0.8045 - val_accuracy: 0.5833\n",
            "Epoch 71/200\n",
            "1/1 [==============================] - 0s 373ms/step - loss: 0.2484 - accuracy: 1.0000 - val_loss: 0.8035 - val_accuracy: 0.5833\n",
            "Epoch 72/200\n",
            "1/1 [==============================] - 0s 370ms/step - loss: 0.2452 - accuracy: 1.0000 - val_loss: 0.8031 - val_accuracy: 0.5833\n",
            "Epoch 73/200\n",
            "1/1 [==============================] - 0s 456ms/step - loss: 0.2422 - accuracy: 1.0000 - val_loss: 0.8027 - val_accuracy: 0.5833\n",
            "Epoch 74/200\n",
            "1/1 [==============================] - 0s 376ms/step - loss: 0.2391 - accuracy: 1.0000 - val_loss: 0.8021 - val_accuracy: 0.5833\n",
            "Epoch 75/200\n",
            "1/1 [==============================] - 0s 368ms/step - loss: 0.2359 - accuracy: 1.0000 - val_loss: 0.8012 - val_accuracy: 0.5833\n",
            "Epoch 76/200\n",
            "1/1 [==============================] - 0s 388ms/step - loss: 0.2328 - accuracy: 1.0000 - val_loss: 0.7999 - val_accuracy: 0.5833\n",
            "Epoch 77/200\n",
            "1/1 [==============================] - 0s 371ms/step - loss: 0.2299 - accuracy: 1.0000 - val_loss: 0.7979 - val_accuracy: 0.5833\n",
            "Epoch 78/200\n",
            "1/1 [==============================] - 0s 378ms/step - loss: 0.2271 - accuracy: 1.0000 - val_loss: 0.7948 - val_accuracy: 0.5833\n",
            "Epoch 79/200\n",
            "1/1 [==============================] - 0s 375ms/step - loss: 0.2243 - accuracy: 1.0000 - val_loss: 0.7912 - val_accuracy: 0.5833\n",
            "Epoch 80/200\n",
            "1/1 [==============================] - 0s 377ms/step - loss: 0.2215 - accuracy: 1.0000 - val_loss: 0.7878 - val_accuracy: 0.5833\n",
            "Epoch 81/200\n",
            "1/1 [==============================] - 0s 382ms/step - loss: 0.2188 - accuracy: 1.0000 - val_loss: 0.7853 - val_accuracy: 0.5833\n",
            "Epoch 82/200\n",
            "1/1 [==============================] - 0s 381ms/step - loss: 0.2162 - accuracy: 1.0000 - val_loss: 0.7840 - val_accuracy: 0.5833\n",
            "Epoch 83/200\n",
            "1/1 [==============================] - 0s 375ms/step - loss: 0.2136 - accuracy: 1.0000 - val_loss: 0.7837 - val_accuracy: 0.5833\n",
            "Epoch 84/200\n",
            "1/1 [==============================] - 0s 380ms/step - loss: 0.2111 - accuracy: 1.0000 - val_loss: 0.7842 - val_accuracy: 0.5833\n",
            "Epoch 85/200\n",
            "1/1 [==============================] - 0s 374ms/step - loss: 0.2085 - accuracy: 1.0000 - val_loss: 0.7852 - val_accuracy: 0.5833\n",
            "Epoch 86/200\n",
            "1/1 [==============================] - 0s 377ms/step - loss: 0.2060 - accuracy: 1.0000 - val_loss: 0.7862 - val_accuracy: 0.5833\n",
            "Epoch 87/200\n",
            "1/1 [==============================] - 0s 377ms/step - loss: 0.2036 - accuracy: 1.0000 - val_loss: 0.7867 - val_accuracy: 0.6667\n",
            "Epoch 88/200\n",
            "1/1 [==============================] - 0s 376ms/step - loss: 0.2013 - accuracy: 1.0000 - val_loss: 0.7864 - val_accuracy: 0.6667\n",
            "Epoch 89/200\n",
            "1/1 [==============================] - 0s 378ms/step - loss: 0.1990 - accuracy: 1.0000 - val_loss: 0.7854 - val_accuracy: 0.5833\n",
            "Epoch 90/200\n",
            "1/1 [==============================] - 0s 381ms/step - loss: 0.1967 - accuracy: 1.0000 - val_loss: 0.7839 - val_accuracy: 0.5833\n",
            "Epoch 91/200\n",
            "1/1 [==============================] - 0s 377ms/step - loss: 0.1945 - accuracy: 1.0000 - val_loss: 0.7822 - val_accuracy: 0.5833\n",
            "Epoch 92/200\n",
            "1/1 [==============================] - 0s 453ms/step - loss: 0.1923 - accuracy: 1.0000 - val_loss: 0.7805 - val_accuracy: 0.5833\n",
            "Epoch 93/200\n",
            "1/1 [==============================] - 0s 450ms/step - loss: 0.1901 - accuracy: 1.0000 - val_loss: 0.7791 - val_accuracy: 0.5833\n",
            "Epoch 94/200\n",
            "1/1 [==============================] - 0s 372ms/step - loss: 0.1880 - accuracy: 1.0000 - val_loss: 0.7779 - val_accuracy: 0.5833\n",
            "Epoch 95/200\n",
            "1/1 [==============================] - 0s 372ms/step - loss: 0.1859 - accuracy: 1.0000 - val_loss: 0.7771 - val_accuracy: 0.6667\n",
            "Epoch 96/200\n",
            "1/1 [==============================] - 0s 471ms/step - loss: 0.1839 - accuracy: 1.0000 - val_loss: 0.7765 - val_accuracy: 0.6667\n",
            "Epoch 97/200\n",
            "1/1 [==============================] - 0s 372ms/step - loss: 0.1819 - accuracy: 1.0000 - val_loss: 0.7760 - val_accuracy: 0.6667\n",
            "Epoch 98/200\n",
            "1/1 [==============================] - 0s 379ms/step - loss: 0.1799 - accuracy: 1.0000 - val_loss: 0.7757 - val_accuracy: 0.6667\n",
            "Epoch 99/200\n",
            "1/1 [==============================] - 0s 390ms/step - loss: 0.1780 - accuracy: 1.0000 - val_loss: 0.7755 - val_accuracy: 0.6667\n",
            "Epoch 100/200\n",
            "1/1 [==============================] - 0s 372ms/step - loss: 0.1760 - accuracy: 1.0000 - val_loss: 0.7754 - val_accuracy: 0.6667\n",
            "Epoch 101/200\n",
            "1/1 [==============================] - 0s 451ms/step - loss: 0.1741 - accuracy: 1.0000 - val_loss: 0.7754 - val_accuracy: 0.6667\n",
            "Epoch 102/200\n",
            "1/1 [==============================] - 0s 378ms/step - loss: 0.1723 - accuracy: 1.0000 - val_loss: 0.7755 - val_accuracy: 0.6667\n",
            "Epoch 103/200\n",
            "1/1 [==============================] - 0s 373ms/step - loss: 0.1705 - accuracy: 1.0000 - val_loss: 0.7756 - val_accuracy: 0.6667\n",
            "Epoch 104/200\n",
            "1/1 [==============================] - 0s 396ms/step - loss: 0.1687 - accuracy: 1.0000 - val_loss: 0.7756 - val_accuracy: 0.6667\n",
            "Epoch 105/200\n",
            "1/1 [==============================] - 0s 382ms/step - loss: 0.1669 - accuracy: 1.0000 - val_loss: 0.7755 - val_accuracy: 0.6667\n",
            "Epoch 106/200\n",
            "1/1 [==============================] - 0s 380ms/step - loss: 0.1652 - accuracy: 1.0000 - val_loss: 0.7752 - val_accuracy: 0.6667\n",
            "Epoch 107/200\n",
            "1/1 [==============================] - 0s 382ms/step - loss: 0.1635 - accuracy: 1.0000 - val_loss: 0.7747 - val_accuracy: 0.6667\n",
            "Epoch 108/200\n",
            "1/1 [==============================] - 0s 378ms/step - loss: 0.1618 - accuracy: 1.0000 - val_loss: 0.7742 - val_accuracy: 0.6667\n",
            "Epoch 109/200\n",
            "1/1 [==============================] - 0s 381ms/step - loss: 0.1602 - accuracy: 1.0000 - val_loss: 0.7735 - val_accuracy: 0.6667\n",
            "Epoch 110/200\n",
            "1/1 [==============================] - 0s 378ms/step - loss: 0.1586 - accuracy: 1.0000 - val_loss: 0.7730 - val_accuracy: 0.6667\n",
            "Epoch 111/200\n",
            "1/1 [==============================] - 0s 380ms/step - loss: 0.1570 - accuracy: 1.0000 - val_loss: 0.7725 - val_accuracy: 0.6667\n",
            "Epoch 112/200\n",
            "1/1 [==============================] - 0s 464ms/step - loss: 0.1554 - accuracy: 1.0000 - val_loss: 0.7722 - val_accuracy: 0.6667\n",
            "Epoch 113/200\n",
            "1/1 [==============================] - 0s 377ms/step - loss: 0.1538 - accuracy: 1.0000 - val_loss: 0.7721 - val_accuracy: 0.6667\n",
            "Epoch 114/200\n",
            "1/1 [==============================] - 0s 380ms/step - loss: 0.1523 - accuracy: 1.0000 - val_loss: 0.7722 - val_accuracy: 0.6667\n",
            "Epoch 115/200\n",
            "1/1 [==============================] - 0s 394ms/step - loss: 0.1508 - accuracy: 1.0000 - val_loss: 0.7724 - val_accuracy: 0.6667\n",
            "Epoch 116/200\n",
            "1/1 [==============================] - 0s 377ms/step - loss: 0.1493 - accuracy: 1.0000 - val_loss: 0.7726 - val_accuracy: 0.6667\n",
            "Epoch 117/200\n",
            "1/1 [==============================] - 0s 379ms/step - loss: 0.1479 - accuracy: 1.0000 - val_loss: 0.7729 - val_accuracy: 0.6667\n",
            "Epoch 118/200\n",
            "1/1 [==============================] - 0s 391ms/step - loss: 0.1464 - accuracy: 1.0000 - val_loss: 0.7731 - val_accuracy: 0.6667\n",
            "Epoch 119/200\n",
            "1/1 [==============================] - 0s 378ms/step - loss: 0.1450 - accuracy: 1.0000 - val_loss: 0.7733 - val_accuracy: 0.6667\n",
            "Epoch 120/200\n",
            "1/1 [==============================] - 0s 378ms/step - loss: 0.1436 - accuracy: 1.0000 - val_loss: 0.7734 - val_accuracy: 0.6667\n",
            "Epoch 121/200\n",
            "1/1 [==============================] - 0s 383ms/step - loss: 0.1423 - accuracy: 1.0000 - val_loss: 0.7735 - val_accuracy: 0.7500\n",
            "Epoch 122/200\n",
            "1/1 [==============================] - 0s 457ms/step - loss: 0.1409 - accuracy: 1.0000 - val_loss: 0.7735 - val_accuracy: 0.7500\n",
            "Epoch 123/200\n",
            "1/1 [==============================] - 0s 383ms/step - loss: 0.1396 - accuracy: 1.0000 - val_loss: 0.7735 - val_accuracy: 0.7500\n",
            "Epoch 124/200\n",
            "1/1 [==============================] - 0s 377ms/step - loss: 0.1382 - accuracy: 1.0000 - val_loss: 0.7735 - val_accuracy: 0.7500\n",
            "Epoch 125/200\n",
            "1/1 [==============================] - 0s 391ms/step - loss: 0.1370 - accuracy: 1.0000 - val_loss: 0.7735 - val_accuracy: 0.7500\n",
            "Epoch 126/200\n",
            "1/1 [==============================] - 0s 380ms/step - loss: 0.1357 - accuracy: 1.0000 - val_loss: 0.7735 - val_accuracy: 0.7500\n",
            "Epoch 127/200\n",
            "1/1 [==============================] - 0s 376ms/step - loss: 0.1344 - accuracy: 1.0000 - val_loss: 0.7735 - val_accuracy: 0.7500\n",
            "Epoch 128/200\n",
            "1/1 [==============================] - 0s 458ms/step - loss: 0.1332 - accuracy: 1.0000 - val_loss: 0.7736 - val_accuracy: 0.7500\n",
            "Epoch 129/200\n",
            "1/1 [==============================] - 0s 383ms/step - loss: 0.1319 - accuracy: 1.0000 - val_loss: 0.7737 - val_accuracy: 0.7500\n",
            "Epoch 130/200\n",
            "1/1 [==============================] - 0s 379ms/step - loss: 0.1307 - accuracy: 1.0000 - val_loss: 0.7739 - val_accuracy: 0.7500\n",
            "Epoch 131/200\n",
            "1/1 [==============================] - 0s 389ms/step - loss: 0.1295 - accuracy: 1.0000 - val_loss: 0.7741 - val_accuracy: 0.7500\n",
            "Epoch 132/200\n",
            "1/1 [==============================] - 0s 379ms/step - loss: 0.1284 - accuracy: 1.0000 - val_loss: 0.7744 - val_accuracy: 0.7500\n",
            "Epoch 133/200\n",
            "1/1 [==============================] - 0s 378ms/step - loss: 0.1272 - accuracy: 1.0000 - val_loss: 0.7748 - val_accuracy: 0.7500\n",
            "Epoch 134/200\n",
            "1/1 [==============================] - 0s 382ms/step - loss: 0.1261 - accuracy: 1.0000 - val_loss: 0.7751 - val_accuracy: 0.7500\n",
            "Epoch 135/200\n",
            "1/1 [==============================] - 0s 379ms/step - loss: 0.1249 - accuracy: 1.0000 - val_loss: 0.7754 - val_accuracy: 0.7500\n",
            "Epoch 136/200\n",
            "1/1 [==============================] - 0s 381ms/step - loss: 0.1238 - accuracy: 1.0000 - val_loss: 0.7757 - val_accuracy: 0.7500\n",
            "Epoch 137/200\n",
            "1/1 [==============================] - 0s 384ms/step - loss: 0.1227 - accuracy: 1.0000 - val_loss: 0.7760 - val_accuracy: 0.7500\n",
            "Epoch 138/200\n",
            "1/1 [==============================] - 0s 384ms/step - loss: 0.1217 - accuracy: 1.0000 - val_loss: 0.7763 - val_accuracy: 0.7500\n",
            "Epoch 139/200\n",
            "1/1 [==============================] - 0s 382ms/step - loss: 0.1206 - accuracy: 1.0000 - val_loss: 0.7766 - val_accuracy: 0.7500\n",
            "Epoch 140/200\n",
            "1/1 [==============================] - 0s 381ms/step - loss: 0.1195 - accuracy: 1.0000 - val_loss: 0.7768 - val_accuracy: 0.7500\n",
            "Epoch 141/200\n",
            "1/1 [==============================] - 0s 463ms/step - loss: 0.1185 - accuracy: 1.0000 - val_loss: 0.7771 - val_accuracy: 0.7500\n",
            "Epoch 142/200\n",
            "1/1 [==============================] - 0s 380ms/step - loss: 0.1175 - accuracy: 1.0000 - val_loss: 0.7773 - val_accuracy: 0.7500\n",
            "Epoch 143/200\n",
            "1/1 [==============================] - 0s 376ms/step - loss: 0.1165 - accuracy: 1.0000 - val_loss: 0.7776 - val_accuracy: 0.7500\n",
            "Epoch 144/200\n",
            "1/1 [==============================] - 0s 394ms/step - loss: 0.1155 - accuracy: 1.0000 - val_loss: 0.7779 - val_accuracy: 0.7500\n",
            "Epoch 145/200\n",
            "1/1 [==============================] - 0s 377ms/step - loss: 0.1145 - accuracy: 1.0000 - val_loss: 0.7781 - val_accuracy: 0.7500\n",
            "Epoch 146/200\n",
            "1/1 [==============================] - 0s 378ms/step - loss: 0.1135 - accuracy: 1.0000 - val_loss: 0.7785 - val_accuracy: 0.7500\n",
            "Epoch 147/200\n",
            "1/1 [==============================] - 0s 380ms/step - loss: 0.1125 - accuracy: 1.0000 - val_loss: 0.7788 - val_accuracy: 0.7500\n",
            "Epoch 148/200\n",
            "1/1 [==============================] - 0s 386ms/step - loss: 0.1116 - accuracy: 1.0000 - val_loss: 0.7792 - val_accuracy: 0.7500\n",
            "Epoch 149/200\n",
            "1/1 [==============================] - 0s 378ms/step - loss: 0.1107 - accuracy: 1.0000 - val_loss: 0.7796 - val_accuracy: 0.7500\n",
            "Epoch 150/200\n",
            "1/1 [==============================] - 0s 377ms/step - loss: 0.1097 - accuracy: 1.0000 - val_loss: 0.7800 - val_accuracy: 0.7500\n",
            "Epoch 151/200\n",
            "1/1 [==============================] - 0s 377ms/step - loss: 0.1088 - accuracy: 1.0000 - val_loss: 0.7804 - val_accuracy: 0.7500\n",
            "Epoch 152/200\n",
            "1/1 [==============================] - 0s 378ms/step - loss: 0.1079 - accuracy: 1.0000 - val_loss: 0.7808 - val_accuracy: 0.7500\n",
            "Epoch 153/200\n",
            "1/1 [==============================] - 0s 380ms/step - loss: 0.1070 - accuracy: 1.0000 - val_loss: 0.7812 - val_accuracy: 0.7500\n",
            "Epoch 154/200\n",
            "1/1 [==============================] - 0s 381ms/step - loss: 0.1062 - accuracy: 1.0000 - val_loss: 0.7816 - val_accuracy: 0.7500\n",
            "Epoch 155/200\n",
            "1/1 [==============================] - 0s 378ms/step - loss: 0.1053 - accuracy: 1.0000 - val_loss: 0.7821 - val_accuracy: 0.7500\n",
            "Epoch 156/200\n",
            "1/1 [==============================] - 0s 381ms/step - loss: 0.1044 - accuracy: 1.0000 - val_loss: 0.7824 - val_accuracy: 0.7500\n",
            "Epoch 157/200\n",
            "1/1 [==============================] - 0s 379ms/step - loss: 0.1036 - accuracy: 1.0000 - val_loss: 0.7828 - val_accuracy: 0.7500\n",
            "Epoch 158/200\n",
            "1/1 [==============================] - 0s 383ms/step - loss: 0.1027 - accuracy: 1.0000 - val_loss: 0.7832 - val_accuracy: 0.7500\n",
            "Epoch 159/200\n",
            "1/1 [==============================] - 0s 373ms/step - loss: 0.1019 - accuracy: 1.0000 - val_loss: 0.7836 - val_accuracy: 0.7500\n",
            "Epoch 160/200\n",
            "1/1 [==============================] - 0s 376ms/step - loss: 0.1011 - accuracy: 1.0000 - val_loss: 0.7840 - val_accuracy: 0.7500\n",
            "Epoch 161/200\n",
            "1/1 [==============================] - 0s 377ms/step - loss: 0.1003 - accuracy: 1.0000 - val_loss: 0.7844 - val_accuracy: 0.7500\n",
            "Epoch 162/200\n",
            "1/1 [==============================] - 0s 384ms/step - loss: 0.0995 - accuracy: 1.0000 - val_loss: 0.7848 - val_accuracy: 0.7500\n",
            "Epoch 163/200\n",
            "1/1 [==============================] - 0s 377ms/step - loss: 0.0987 - accuracy: 1.0000 - val_loss: 0.7852 - val_accuracy: 0.7500\n",
            "Epoch 164/200\n",
            "1/1 [==============================] - 0s 377ms/step - loss: 0.0979 - accuracy: 1.0000 - val_loss: 0.7857 - val_accuracy: 0.7500\n",
            "Epoch 165/200\n",
            "1/1 [==============================] - 0s 380ms/step - loss: 0.0972 - accuracy: 1.0000 - val_loss: 0.7861 - val_accuracy: 0.7500\n",
            "Epoch 166/200\n",
            "1/1 [==============================] - 0s 382ms/step - loss: 0.0964 - accuracy: 1.0000 - val_loss: 0.7866 - val_accuracy: 0.7500\n",
            "Epoch 167/200\n",
            "1/1 [==============================] - 0s 376ms/step - loss: 0.0957 - accuracy: 1.0000 - val_loss: 0.7870 - val_accuracy: 0.7500\n",
            "Epoch 168/200\n",
            "1/1 [==============================] - 0s 377ms/step - loss: 0.0949 - accuracy: 1.0000 - val_loss: 0.7875 - val_accuracy: 0.7500\n",
            "Epoch 169/200\n",
            "1/1 [==============================] - 0s 383ms/step - loss: 0.0942 - accuracy: 1.0000 - val_loss: 0.7880 - val_accuracy: 0.7500\n",
            "Epoch 170/200\n",
            "1/1 [==============================] - 0s 378ms/step - loss: 0.0935 - accuracy: 1.0000 - val_loss: 0.7884 - val_accuracy: 0.7500\n",
            "Epoch 171/200\n",
            "1/1 [==============================] - 0s 379ms/step - loss: 0.0928 - accuracy: 1.0000 - val_loss: 0.7889 - val_accuracy: 0.7500\n",
            "Epoch 172/200\n",
            "1/1 [==============================] - 0s 376ms/step - loss: 0.0921 - accuracy: 1.0000 - val_loss: 0.7894 - val_accuracy: 0.7500\n",
            "Epoch 173/200\n",
            "1/1 [==============================] - 0s 377ms/step - loss: 0.0914 - accuracy: 1.0000 - val_loss: 0.7898 - val_accuracy: 0.7500\n",
            "Epoch 174/200\n",
            "1/1 [==============================] - 0s 374ms/step - loss: 0.0907 - accuracy: 1.0000 - val_loss: 0.7903 - val_accuracy: 0.7500\n",
            "Epoch 175/200\n",
            "1/1 [==============================] - 0s 378ms/step - loss: 0.0900 - accuracy: 1.0000 - val_loss: 0.7908 - val_accuracy: 0.7500\n",
            "Epoch 176/200\n",
            "1/1 [==============================] - 0s 373ms/step - loss: 0.0893 - accuracy: 1.0000 - val_loss: 0.7913 - val_accuracy: 0.7500\n",
            "Epoch 177/200\n",
            "1/1 [==============================] - 0s 383ms/step - loss: 0.0887 - accuracy: 1.0000 - val_loss: 0.7917 - val_accuracy: 0.7500\n",
            "Epoch 178/200\n",
            "1/1 [==============================] - 0s 378ms/step - loss: 0.0880 - accuracy: 1.0000 - val_loss: 0.7922 - val_accuracy: 0.7500\n",
            "Epoch 179/200\n",
            "1/1 [==============================] - 0s 377ms/step - loss: 0.0873 - accuracy: 1.0000 - val_loss: 0.7927 - val_accuracy: 0.7500\n",
            "Epoch 180/200\n",
            "1/1 [==============================] - 0s 379ms/step - loss: 0.0867 - accuracy: 1.0000 - val_loss: 0.7931 - val_accuracy: 0.7500\n",
            "Epoch 181/200\n",
            "1/1 [==============================] - 0s 375ms/step - loss: 0.0861 - accuracy: 1.0000 - val_loss: 0.7936 - val_accuracy: 0.7500\n",
            "Epoch 182/200\n",
            "1/1 [==============================] - 0s 372ms/step - loss: 0.0854 - accuracy: 1.0000 - val_loss: 0.7941 - val_accuracy: 0.7500\n",
            "Epoch 183/200\n",
            "1/1 [==============================] - 0s 452ms/step - loss: 0.0848 - accuracy: 1.0000 - val_loss: 0.7946 - val_accuracy: 0.7500\n",
            "Epoch 184/200\n",
            "1/1 [==============================] - 0s 386ms/step - loss: 0.0842 - accuracy: 1.0000 - val_loss: 0.7951 - val_accuracy: 0.7500\n",
            "Epoch 185/200\n",
            "1/1 [==============================] - 0s 381ms/step - loss: 0.0836 - accuracy: 1.0000 - val_loss: 0.7956 - val_accuracy: 0.7500\n",
            "Epoch 186/200\n",
            "1/1 [==============================] - 0s 390ms/step - loss: 0.0830 - accuracy: 1.0000 - val_loss: 0.7961 - val_accuracy: 0.7500\n",
            "Epoch 187/200\n",
            "1/1 [==============================] - 0s 389ms/step - loss: 0.0824 - accuracy: 1.0000 - val_loss: 0.7966 - val_accuracy: 0.7500\n",
            "Epoch 188/200\n",
            "1/1 [==============================] - 0s 395ms/step - loss: 0.0818 - accuracy: 1.0000 - val_loss: 0.7971 - val_accuracy: 0.7500\n",
            "Epoch 189/200\n",
            "1/1 [==============================] - 0s 370ms/step - loss: 0.0812 - accuracy: 1.0000 - val_loss: 0.7976 - val_accuracy: 0.7500\n",
            "Epoch 190/200\n",
            "1/1 [==============================] - 0s 380ms/step - loss: 0.0807 - accuracy: 1.0000 - val_loss: 0.7981 - val_accuracy: 0.7500\n",
            "Epoch 191/200\n",
            "1/1 [==============================] - 0s 373ms/step - loss: 0.0801 - accuracy: 1.0000 - val_loss: 0.7987 - val_accuracy: 0.7500\n",
            "Epoch 192/200\n",
            "1/1 [==============================] - 0s 380ms/step - loss: 0.0795 - accuracy: 1.0000 - val_loss: 0.7992 - val_accuracy: 0.7500\n",
            "Epoch 193/200\n",
            "1/1 [==============================] - 0s 377ms/step - loss: 0.0790 - accuracy: 1.0000 - val_loss: 0.7997 - val_accuracy: 0.7500\n",
            "Epoch 194/200\n",
            "1/1 [==============================] - 0s 375ms/step - loss: 0.0784 - accuracy: 1.0000 - val_loss: 0.8002 - val_accuracy: 0.7500\n",
            "Epoch 195/200\n",
            "1/1 [==============================] - 0s 381ms/step - loss: 0.0779 - accuracy: 1.0000 - val_loss: 0.8007 - val_accuracy: 0.7500\n",
            "Epoch 196/200\n",
            "1/1 [==============================] - 0s 375ms/step - loss: 0.0773 - accuracy: 1.0000 - val_loss: 0.8012 - val_accuracy: 0.7500\n",
            "Epoch 197/200\n",
            "1/1 [==============================] - 0s 376ms/step - loss: 0.0768 - accuracy: 1.0000 - val_loss: 0.8017 - val_accuracy: 0.7500\n",
            "Epoch 198/200\n",
            "1/1 [==============================] - 0s 375ms/step - loss: 0.0763 - accuracy: 1.0000 - val_loss: 0.8022 - val_accuracy: 0.7500\n",
            "Epoch 199/200\n",
            "1/1 [==============================] - 0s 369ms/step - loss: 0.0758 - accuracy: 1.0000 - val_loss: 0.8027 - val_accuracy: 0.7500\n",
            "Epoch 200/200\n",
            "1/1 [==============================] - 0s 367ms/step - loss: 0.0752 - accuracy: 1.0000 - val_loss: 0.8033 - val_accuracy: 0.7500\n"
          ]
        }
      ]
    },
    {
      "metadata": {
        "id": "jPqJ0OM8YobI"
      },
      "cell_type": "markdown",
      "source": [
        "Nossa precisão de validação paira perto de 80% no final, o que é mais de 30% de melhoria na rede original treinada do zero (o que significa que fazemos a previsão errada em 20% das amostras, em vez de 50%).\n",
        "\n",
        "Vale a pena notar também que esta rede realmente treina _ligeiramente mais rápido_ que a rede original, apesar de ter mais de 100 vezes mais parâmetros! Isso ocorre porque o congelamento dos pesos nega a necessidade de retropropagação por todas essas camadas, economizando tempo de execução.\n",
        "\n",
        "Vamos plotar a perda de validação e precisão novamente, desta vez comparando o modelo original treinado do zero (em azul) e o novo modelo aprendido por transferência em verde."
      ]
    },
    {
      "metadata": {
        "id": "SHLdHnuuYobJ",
        "colab": {
          "base_uri": "https://localhost:8080/",
          "height": 295
        },
        "outputId": "b12b242e-ec1a-45c0-8369-8044dd56b23a"
      },
      "cell_type": "code",
      "source": [
        "fig = plt.figure(figsize=(16,4))\n",
        "ax = fig.add_subplot(121)\n",
        "ax.plot(history.history[\"val_loss\"])\n",
        "ax.plot(history2.history[\"val_loss\"])\n",
        "ax.set_title(\"validation loss\")\n",
        "ax.set_xlabel(\"epochs\")\n",
        "\n",
        "ax2 = fig.add_subplot(122)\n",
        "ax2.plot(history.history[\"accuracy\"])\n",
        "ax2.plot(history2.history[\"accuracy\"])\n",
        "ax2.set_title(\"validation accuracy\")\n",
        "ax2.set_xlabel(\"epochs\")\n",
        "ax2.set_ylim(0, 1)\n",
        "\n",
        "plt.show()"
      ],
      "execution_count": 133,
      "outputs": [
        {
          "output_type": "display_data",
          "data": {
            "text/plain": [
              "<Figure size 1152x288 with 2 Axes>"
            ],
            "image/png": "[encoded data removed]"
          },
          "metadata": {
            "needs_background": "light"
          }
        }
      ]
    },
    {
      "metadata": {
        "id": "vXjfVTVIYobM"
      },
      "cell_type": "markdown",
      "source": [
        "Observe que, enquanto o modelo original começou a se ajustar em torno da época 16, o novo modelo continuou a diminuir lentamente sua perda ao longo do tempo e provavelmente melhoraria ligeiramente sua precisão com mais iterações. O novo modelo chegou a aproximadamente 80% de precisão top-1 (no conjunto de validação) e continuou a melhorar lentamente por 100 épocas.\n",
        "\n",
        "É possível que pudéssemos ter melhorado o modelo original com melhor regularização ou mais dropout, mas certamente não teríamos compensado a melhoria de 30% na precisão.\n",
        "\n",
        "Novamente, fazemos uma validação final no conjunto de teste."
      ]
    },
    {
      "metadata": {
        "id": "zMxC6Pd1YobN",
        "colab": {
          "base_uri": "https://localhost:8080/"
        },
        "outputId": "74212b76-08c1-476c-c660-ddc64e21c9d5"
      },
      "cell_type": "code",
      "source": [
        "loss, accuracy = model_new.evaluate(x_test, y_test, verbose=0)\n",
        "\n",
        "print('Test loss:', loss)\n",
        "print('Test accuracy:', accuracy)"
      ],
      "execution_count": 134,
      "outputs": [
        {
          "output_type": "stream",
          "name": "stdout",
          "text": [
            "Test loss: 0.36219310760498047\n",
            "Test accuracy: 0.8333333134651184\n"
          ]
        }
      ]
    },
    {
      "metadata": {
        "id": "4iUykardYobR"
      },
      "cell_type": "markdown",
      "source": [
        "Para prever uma nova imagem, basta executar o código a seguir para obter as probabilidades de cada classe."
      ]
    },
    {
      "metadata": {
        "id": "YpRcsywEYobT",
        "colab": {
          "base_uri": "https://localhost:8080/"
        },
        "outputId": "df96ed4f-d3d8-40a7-e1ce-79ced7fd16f5"
      },
      "cell_type": "code",
      "source": [
        "img, x = get_image('/content/imagensTeste/1.jpg')\n",
        "probabilities = model_new.predict([x])\n",
        "print(\"    Joaninha        Aranha       Formiga\")\n",
        "print(probabilities)\n"
      ],
      "execution_count": 164,
      "outputs": [
        {
          "output_type": "stream",
          "name": "stdout",
          "text": [
            "    Joaninha        Aranha       Formiga\n",
            "[[2.5060207e-10 1.0000000e+00 2.7655414e-08]]\n"
          ]
        }
      ]
    },
    {
      "metadata": {
        "id": "f2ahKv8XYobY"
      },
      "cell_type": "markdown",
      "source": [
        "### Improving the results\n",
        "\n",
        "78.2% top-1 accuracy on 97 classes, roughly evenly distributed, is a pretty good achievement. It is not quite as impressive as the original VGG16 which achieved 73% top-1 accuracy on 1000 classes. Nevertheless, it is much better than what we were able to achieve with our original network, and there is room for improvement. Some techniques which possibly could have improved our performance.\n",
        "\n",
        "- Using data augementation: augmentation refers to using various modifications of the original training data, in the form of distortions, rotations, rescalings, lighting changes, etc to increase the size of the training set and create more tolerance for such distortions.\n",
        "- Using a different optimizer, adding more regularization/dropout, and other hyperparameters.\n",
        "- Training for longer (of course)\n",
        "\n",
        "A more advanced example of transfer learning in Keras, involving augmentation for a small 2-class dataset, can be found in the [Keras blog](https://blog.keras.io/building-powerful-image-classification-models-using-very-little-data.html)."
      ]
    }
  ]
}